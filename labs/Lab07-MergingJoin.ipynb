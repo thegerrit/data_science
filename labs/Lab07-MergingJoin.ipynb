{
 "cells": [
  {
   "cell_type": "markdown",
   "metadata": {},
   "source": [
    "# Lab 07: Merging and Joining Data\n",
    "\n",
    "This lab is presented with some revisions from [Dennis Sun at Cal Poly](https://web.calpoly.edu/~dsun09/index.html) and his [Data301 Course](http://users.csc.calpoly.edu/~dsun09/data301/lectures.html)\n",
    "\n",
    "### When you have filled out all the questions, submit via [Tulane Canvas](https://tulane.instructure.com/)"
   ]
  },
  {
   "cell_type": "markdown",
   "metadata": {},
   "source": [
    "In many situtions, the information you need is spread across multiple data sets, so you will need to combine multiple data sets into one. In this chapter, we explore how to combine information from multiple (tabular) data sets.\n",
    "\n",
    "As a working example, we will use the baby names data collected by the Social Security Administration. Each data set in this collection contains the names of all babies born in the United States in a particular year. This data is [publicly available](https://www.ssa.gov/OACT/babynames/limits.html), and a copy has been made available at `./data/names/`."
   ]
  },
  {
   "cell_type": "code",
   "execution_count": 1,
   "metadata": {},
   "outputs": [
    {
     "name": "stdout",
     "output_type": "stream",
     "text": [
      "NationalReadMe.pdf  yob1907.txt  yob1935.txt  yob1963.txt  yob1991.txt\r\n",
      "yob1880.txt\t    yob1908.txt  yob1936.txt  yob1964.txt  yob1992.txt\r\n",
      "yob1881.txt\t    yob1909.txt  yob1937.txt  yob1965.txt  yob1993.txt\r\n",
      "yob1882.txt\t    yob1910.txt  yob1938.txt  yob1966.txt  yob1994.txt\r\n",
      "yob1883.txt\t    yob1911.txt  yob1939.txt  yob1967.txt  yob1995.txt\r\n",
      "yob1884.txt\t    yob1912.txt  yob1940.txt  yob1968.txt  yob1996.txt\r\n",
      "yob1885.txt\t    yob1913.txt  yob1941.txt  yob1969.txt  yob1997.txt\r\n",
      "yob1886.txt\t    yob1914.txt  yob1942.txt  yob1970.txt  yob1998.txt\r\n",
      "yob1887.txt\t    yob1915.txt  yob1943.txt  yob1971.txt  yob1999.txt\r\n",
      "yob1888.txt\t    yob1916.txt  yob1944.txt  yob1972.txt  yob2000.txt\r\n",
      "yob1889.txt\t    yob1917.txt  yob1945.txt  yob1973.txt  yob2001.txt\r\n",
      "yob1890.txt\t    yob1918.txt  yob1946.txt  yob1974.txt  yob2002.txt\r\n",
      "yob1891.txt\t    yob1919.txt  yob1947.txt  yob1975.txt  yob2003.txt\r\n",
      "yob1892.txt\t    yob1920.txt  yob1948.txt  yob1976.txt  yob2004.txt\r\n",
      "yob1893.txt\t    yob1921.txt  yob1949.txt  yob1977.txt  yob2005.txt\r\n",
      "yob1894.txt\t    yob1922.txt  yob1950.txt  yob1978.txt  yob2006.txt\r\n",
      "yob1895.txt\t    yob1923.txt  yob1951.txt  yob1979.txt  yob2007.txt\r\n",
      "yob1896.txt\t    yob1924.txt  yob1952.txt  yob1980.txt  yob2008.txt\r\n",
      "yob1897.txt\t    yob1925.txt  yob1953.txt  yob1981.txt  yob2009.txt\r\n",
      "yob1898.txt\t    yob1926.txt  yob1954.txt  yob1982.txt  yob2010.txt\r\n",
      "yob1899.txt\t    yob1927.txt  yob1955.txt  yob1983.txt  yob2011.txt\r\n",
      "yob1900.txt\t    yob1928.txt  yob1956.txt  yob1984.txt  yob2012.txt\r\n",
      "yob1901.txt\t    yob1929.txt  yob1957.txt  yob1985.txt  yob2013.txt\r\n",
      "yob1902.txt\t    yob1930.txt  yob1958.txt  yob1986.txt  yob2014.txt\r\n",
      "yob1903.txt\t    yob1931.txt  yob1959.txt  yob1987.txt  yob2015.txt\r\n",
      "yob1904.txt\t    yob1932.txt  yob1960.txt  yob1988.txt  yob2016.txt\r\n",
      "yob1905.txt\t    yob1933.txt  yob1961.txt  yob1989.txt  yob2017.txt\r\n",
      "yob1906.txt\t    yob1934.txt  yob1962.txt  yob1990.txt  yob2018.txt\r\n"
     ]
    }
   ],
   "source": [
    "!ls ./data/names"
   ]
  },
  {
   "cell_type": "markdown",
   "metadata": {},
   "source": [
    "As you can see this data is broken up into a lot of individual files, but if we want to use any of our `groupby` and other analysis techniques we need to make it into one file!"
   ]
  },
  {
   "cell_type": "markdown",
   "metadata": {},
   "source": [
    "## Concatenation\n",
    "\n",
    "Sometimes, the _rows_ of data are spread across multiple files, and we want to combine the rows into a single data set. The process of combining rows from different data sets is known as **concatenation**. Visually, to concatenate two or more `DataFrame`s means to stack them on top of one another.\n",
    "\n",
    "<img src=\"./images/concatenate.png\" width=\"400\">\n",
    "\n",
    "For example, suppose we want to understand how the popularity of different names evolved between 1995 and 2015. The 1995 names and the 2015 names are stored in two different files: `yob1995.txt` and `yob2015.txt`, respectively. To carry out this analysis, we will need to combine these two data sets into one."
   ]
  },
  {
   "cell_type": "code",
   "execution_count": 1,
   "metadata": {},
   "outputs": [
    {
     "data": {
      "text/html": [
       "<style>.container { width:95% !important; }</style>"
      ],
      "text/plain": [
       "<IPython.core.display.HTML object>"
      ]
     },
     "metadata": {},
     "output_type": "display_data"
    },
    {
     "data": {
      "text/html": [
       "<div>\n",
       "<style scoped>\n",
       "    .dataframe tbody tr th:only-of-type {\n",
       "        vertical-align: middle;\n",
       "    }\n",
       "\n",
       "    .dataframe tbody tr th {\n",
       "        vertical-align: top;\n",
       "    }\n",
       "\n",
       "    .dataframe thead th {\n",
       "        text-align: right;\n",
       "    }\n",
       "</style>\n",
       "<table border=\"1\" class=\"dataframe\">\n",
       "  <thead>\n",
       "    <tr style=\"text-align: right;\">\n",
       "      <th></th>\n",
       "      <th>Name</th>\n",
       "      <th>Sex</th>\n",
       "      <th>Count</th>\n",
       "    </tr>\n",
       "  </thead>\n",
       "  <tbody>\n",
       "    <tr>\n",
       "      <td>0</td>\n",
       "      <td>Jessica</td>\n",
       "      <td>F</td>\n",
       "      <td>27938</td>\n",
       "    </tr>\n",
       "    <tr>\n",
       "      <td>1</td>\n",
       "      <td>Ashley</td>\n",
       "      <td>F</td>\n",
       "      <td>26602</td>\n",
       "    </tr>\n",
       "    <tr>\n",
       "      <td>2</td>\n",
       "      <td>Emily</td>\n",
       "      <td>F</td>\n",
       "      <td>24380</td>\n",
       "    </tr>\n",
       "    <tr>\n",
       "      <td>3</td>\n",
       "      <td>Samantha</td>\n",
       "      <td>F</td>\n",
       "      <td>21644</td>\n",
       "    </tr>\n",
       "    <tr>\n",
       "      <td>4</td>\n",
       "      <td>Sarah</td>\n",
       "      <td>F</td>\n",
       "      <td>21383</td>\n",
       "    </tr>\n",
       "  </tbody>\n",
       "</table>\n",
       "</div>"
      ],
      "text/plain": [
       "       Name Sex  Count\n",
       "0   Jessica   F  27938\n",
       "1    Ashley   F  26602\n",
       "2     Emily   F  24380\n",
       "3  Samantha   F  21644\n",
       "4     Sarah   F  21383"
      ]
     },
     "execution_count": 1,
     "metadata": {},
     "output_type": "execute_result"
    }
   ],
   "source": [
    "%matplotlib inline\n",
    "import pandas as pd\n",
    "\n",
    "# These two things are for Pandas, \n",
    "#it widens the notebook and lets us display data easily.\n",
    "from IPython.core.display import display, HTML\n",
    "display(HTML(\"<style>.container { width:95% !important; }</style>\"))\n",
    "\n",
    "# Show a ludicrus number of rows and columns\n",
    "pd.options.display.max_rows = 500\n",
    "pd.options.display.max_columns = 500\n",
    "pd.options.display.width = 1000\n",
    "\n",
    "names1995 = pd.read_csv(\"./data/names/yob1995.txt\",\n",
    "                        header=None,\n",
    "                        names=[\"Name\", \"Sex\", \"Count\"])\n",
    "names1995.head()"
   ]
  },
  {
   "cell_type": "code",
   "execution_count": 3,
   "metadata": {},
   "outputs": [
    {
     "data": {
      "text/html": [
       "<div>\n",
       "<style scoped>\n",
       "    .dataframe tbody tr th:only-of-type {\n",
       "        vertical-align: middle;\n",
       "    }\n",
       "\n",
       "    .dataframe tbody tr th {\n",
       "        vertical-align: top;\n",
       "    }\n",
       "\n",
       "    .dataframe thead th {\n",
       "        text-align: right;\n",
       "    }\n",
       "</style>\n",
       "<table border=\"1\" class=\"dataframe\">\n",
       "  <thead>\n",
       "    <tr style=\"text-align: right;\">\n",
       "      <th></th>\n",
       "      <th>Name</th>\n",
       "      <th>Sex</th>\n",
       "      <th>Count</th>\n",
       "    </tr>\n",
       "  </thead>\n",
       "  <tbody>\n",
       "    <tr>\n",
       "      <td>0</td>\n",
       "      <td>Emma</td>\n",
       "      <td>F</td>\n",
       "      <td>20455</td>\n",
       "    </tr>\n",
       "    <tr>\n",
       "      <td>1</td>\n",
       "      <td>Olivia</td>\n",
       "      <td>F</td>\n",
       "      <td>19691</td>\n",
       "    </tr>\n",
       "    <tr>\n",
       "      <td>2</td>\n",
       "      <td>Sophia</td>\n",
       "      <td>F</td>\n",
       "      <td>17417</td>\n",
       "    </tr>\n",
       "    <tr>\n",
       "      <td>3</td>\n",
       "      <td>Ava</td>\n",
       "      <td>F</td>\n",
       "      <td>16378</td>\n",
       "    </tr>\n",
       "    <tr>\n",
       "      <td>4</td>\n",
       "      <td>Isabella</td>\n",
       "      <td>F</td>\n",
       "      <td>15617</td>\n",
       "    </tr>\n",
       "  </tbody>\n",
       "</table>\n",
       "</div>"
      ],
      "text/plain": [
       "       Name Sex  Count\n",
       "0      Emma   F  20455\n",
       "1    Olivia   F  19691\n",
       "2    Sophia   F  17417\n",
       "3       Ava   F  16378\n",
       "4  Isabella   F  15617"
      ]
     },
     "execution_count": 3,
     "metadata": {},
     "output_type": "execute_result"
    }
   ],
   "source": [
    "names2015 = pd.read_csv(\"./data/names/yob2015.txt\",\n",
    "                        header=None,\n",
    "                        names=[\"Name\", \"Sex\", \"Count\"])\n",
    "names2015.head()"
   ]
  },
  {
   "cell_type": "markdown",
   "metadata": {},
   "source": [
    "To concatenate the two, we use the `pd.concat()` function, which accepts a _list_ of `pandas` objects (`DataFrames` or `Series`) and concatenates them."
   ]
  },
  {
   "cell_type": "code",
   "execution_count": 4,
   "metadata": {},
   "outputs": [
    {
     "data": {
      "text/html": [
       "<div>\n",
       "<style scoped>\n",
       "    .dataframe tbody tr th:only-of-type {\n",
       "        vertical-align: middle;\n",
       "    }\n",
       "\n",
       "    .dataframe tbody tr th {\n",
       "        vertical-align: top;\n",
       "    }\n",
       "\n",
       "    .dataframe thead th {\n",
       "        text-align: right;\n",
       "    }\n",
       "</style>\n",
       "<table border=\"1\" class=\"dataframe\">\n",
       "  <thead>\n",
       "    <tr style=\"text-align: right;\">\n",
       "      <th></th>\n",
       "      <th>Name</th>\n",
       "      <th>Sex</th>\n",
       "      <th>Count</th>\n",
       "    </tr>\n",
       "  </thead>\n",
       "  <tbody>\n",
       "    <tr>\n",
       "      <td>0</td>\n",
       "      <td>Jessica</td>\n",
       "      <td>F</td>\n",
       "      <td>27938</td>\n",
       "    </tr>\n",
       "    <tr>\n",
       "      <td>1</td>\n",
       "      <td>Ashley</td>\n",
       "      <td>F</td>\n",
       "      <td>26602</td>\n",
       "    </tr>\n",
       "    <tr>\n",
       "      <td>2</td>\n",
       "      <td>Emily</td>\n",
       "      <td>F</td>\n",
       "      <td>24380</td>\n",
       "    </tr>\n",
       "    <tr>\n",
       "      <td>3</td>\n",
       "      <td>Samantha</td>\n",
       "      <td>F</td>\n",
       "      <td>21644</td>\n",
       "    </tr>\n",
       "    <tr>\n",
       "      <td>4</td>\n",
       "      <td>Sarah</td>\n",
       "      <td>F</td>\n",
       "      <td>21383</td>\n",
       "    </tr>\n",
       "    <tr>\n",
       "      <td>...</td>\n",
       "      <td>...</td>\n",
       "      <td>...</td>\n",
       "      <td>...</td>\n",
       "    </tr>\n",
       "    <tr>\n",
       "      <td>33116</td>\n",
       "      <td>Zykell</td>\n",
       "      <td>M</td>\n",
       "      <td>5</td>\n",
       "    </tr>\n",
       "    <tr>\n",
       "      <td>33117</td>\n",
       "      <td>Zyking</td>\n",
       "      <td>M</td>\n",
       "      <td>5</td>\n",
       "    </tr>\n",
       "    <tr>\n",
       "      <td>33118</td>\n",
       "      <td>Zykir</td>\n",
       "      <td>M</td>\n",
       "      <td>5</td>\n",
       "    </tr>\n",
       "    <tr>\n",
       "      <td>33119</td>\n",
       "      <td>Zyrus</td>\n",
       "      <td>M</td>\n",
       "      <td>5</td>\n",
       "    </tr>\n",
       "    <tr>\n",
       "      <td>33120</td>\n",
       "      <td>Zyus</td>\n",
       "      <td>M</td>\n",
       "      <td>5</td>\n",
       "    </tr>\n",
       "  </tbody>\n",
       "</table>\n",
       "<p>59201 rows × 3 columns</p>\n",
       "</div>"
      ],
      "text/plain": [
       "           Name Sex  Count\n",
       "0       Jessica   F  27938\n",
       "1        Ashley   F  26602\n",
       "2         Emily   F  24380\n",
       "3      Samantha   F  21644\n",
       "4         Sarah   F  21383\n",
       "...         ...  ..    ...\n",
       "33116    Zykell   M      5\n",
       "33117    Zyking   M      5\n",
       "33118     Zykir   M      5\n",
       "33119     Zyrus   M      5\n",
       "33120      Zyus   M      5\n",
       "\n",
       "[59201 rows x 3 columns]"
      ]
     },
     "execution_count": 4,
     "metadata": {},
     "output_type": "execute_result"
    }
   ],
   "source": [
    "pd.concat([names1995, names2015])"
   ]
  },
  {
   "cell_type": "markdown",
   "metadata": {},
   "source": [
    "There are two problems with the combined data set above. First, there is no longer any way to distinguish the 1995 data from the 2015 data. To fix this, we can add a \"Year\" column to each `DataFrame` before we concatenate. Second, the indexes from the individual `DataFrame`s have been preserved. (To see this, observe that the last index in the `DataFrame` is 32,951, which corresponds to the number of rows in `names2015`, but there are actually 59,032 rows in the `DataFrame`.) That means that there are two rows with an index of 0, two rows with an index of 1, and so on. To force `pandas` to create a completely new index for this `DataFrame`, ignoring the indices from the individual `DataFrame`s, we specify `ignore_index=True`."
   ]
  },
  {
   "cell_type": "code",
   "execution_count": 5,
   "metadata": {},
   "outputs": [
    {
     "data": {
      "text/html": [
       "<div>\n",
       "<style scoped>\n",
       "    .dataframe tbody tr th:only-of-type {\n",
       "        vertical-align: middle;\n",
       "    }\n",
       "\n",
       "    .dataframe tbody tr th {\n",
       "        vertical-align: top;\n",
       "    }\n",
       "\n",
       "    .dataframe thead th {\n",
       "        text-align: right;\n",
       "    }\n",
       "</style>\n",
       "<table border=\"1\" class=\"dataframe\">\n",
       "  <thead>\n",
       "    <tr style=\"text-align: right;\">\n",
       "      <th></th>\n",
       "      <th>Name</th>\n",
       "      <th>Sex</th>\n",
       "      <th>Count</th>\n",
       "      <th>Year</th>\n",
       "    </tr>\n",
       "  </thead>\n",
       "  <tbody>\n",
       "    <tr>\n",
       "      <td>0</td>\n",
       "      <td>Jessica</td>\n",
       "      <td>F</td>\n",
       "      <td>27938</td>\n",
       "      <td>1995</td>\n",
       "    </tr>\n",
       "    <tr>\n",
       "      <td>1</td>\n",
       "      <td>Ashley</td>\n",
       "      <td>F</td>\n",
       "      <td>26602</td>\n",
       "      <td>1995</td>\n",
       "    </tr>\n",
       "    <tr>\n",
       "      <td>2</td>\n",
       "      <td>Emily</td>\n",
       "      <td>F</td>\n",
       "      <td>24380</td>\n",
       "      <td>1995</td>\n",
       "    </tr>\n",
       "    <tr>\n",
       "      <td>3</td>\n",
       "      <td>Samantha</td>\n",
       "      <td>F</td>\n",
       "      <td>21644</td>\n",
       "      <td>1995</td>\n",
       "    </tr>\n",
       "    <tr>\n",
       "      <td>4</td>\n",
       "      <td>Sarah</td>\n",
       "      <td>F</td>\n",
       "      <td>21383</td>\n",
       "      <td>1995</td>\n",
       "    </tr>\n",
       "    <tr>\n",
       "      <td>...</td>\n",
       "      <td>...</td>\n",
       "      <td>...</td>\n",
       "      <td>...</td>\n",
       "      <td>...</td>\n",
       "    </tr>\n",
       "    <tr>\n",
       "      <td>59196</td>\n",
       "      <td>Zykell</td>\n",
       "      <td>M</td>\n",
       "      <td>5</td>\n",
       "      <td>2015</td>\n",
       "    </tr>\n",
       "    <tr>\n",
       "      <td>59197</td>\n",
       "      <td>Zyking</td>\n",
       "      <td>M</td>\n",
       "      <td>5</td>\n",
       "      <td>2015</td>\n",
       "    </tr>\n",
       "    <tr>\n",
       "      <td>59198</td>\n",
       "      <td>Zykir</td>\n",
       "      <td>M</td>\n",
       "      <td>5</td>\n",
       "      <td>2015</td>\n",
       "    </tr>\n",
       "    <tr>\n",
       "      <td>59199</td>\n",
       "      <td>Zyrus</td>\n",
       "      <td>M</td>\n",
       "      <td>5</td>\n",
       "      <td>2015</td>\n",
       "    </tr>\n",
       "    <tr>\n",
       "      <td>59200</td>\n",
       "      <td>Zyus</td>\n",
       "      <td>M</td>\n",
       "      <td>5</td>\n",
       "      <td>2015</td>\n",
       "    </tr>\n",
       "  </tbody>\n",
       "</table>\n",
       "<p>59201 rows × 4 columns</p>\n",
       "</div>"
      ],
      "text/plain": [
       "           Name Sex  Count  Year\n",
       "0       Jessica   F  27938  1995\n",
       "1        Ashley   F  26602  1995\n",
       "2         Emily   F  24380  1995\n",
       "3      Samantha   F  21644  1995\n",
       "4         Sarah   F  21383  1995\n",
       "...         ...  ..    ...   ...\n",
       "59196    Zykell   M      5  2015\n",
       "59197    Zyking   M      5  2015\n",
       "59198     Zykir   M      5  2015\n",
       "59199     Zyrus   M      5  2015\n",
       "59200      Zyus   M      5  2015\n",
       "\n",
       "[59201 rows x 4 columns]"
      ]
     },
     "execution_count": 5,
     "metadata": {},
     "output_type": "execute_result"
    }
   ],
   "source": [
    "names1995[\"Year\"] = 1995\n",
    "names2015[\"Year\"] = 2015\n",
    "names = pd.concat([names1995, names2015], ignore_index=True)\n",
    "names"
   ]
  },
  {
   "cell_type": "markdown",
   "metadata": {},
   "source": [
    "Now this is a `DataFrame` that we can use!\n",
    "\n",
    "Notice that the data is currently in tabular form, with one row per combination of name, sex, and year. It makes sense to set these to be the index of our `DataFrame`."
   ]
  },
  {
   "cell_type": "code",
   "execution_count": 6,
   "metadata": {},
   "outputs": [
    {
     "data": {
      "text/html": [
       "<div>\n",
       "<style scoped>\n",
       "    .dataframe tbody tr th:only-of-type {\n",
       "        vertical-align: middle;\n",
       "    }\n",
       "\n",
       "    .dataframe tbody tr th {\n",
       "        vertical-align: top;\n",
       "    }\n",
       "\n",
       "    .dataframe thead th {\n",
       "        text-align: right;\n",
       "    }\n",
       "</style>\n",
       "<table border=\"1\" class=\"dataframe\">\n",
       "  <thead>\n",
       "    <tr style=\"text-align: right;\">\n",
       "      <th></th>\n",
       "      <th></th>\n",
       "      <th></th>\n",
       "      <th>Count</th>\n",
       "    </tr>\n",
       "    <tr>\n",
       "      <th>Name</th>\n",
       "      <th>Sex</th>\n",
       "      <th>Year</th>\n",
       "      <th></th>\n",
       "    </tr>\n",
       "  </thead>\n",
       "  <tbody>\n",
       "    <tr>\n",
       "      <td>Jessica</td>\n",
       "      <td>F</td>\n",
       "      <td>1995</td>\n",
       "      <td>27938</td>\n",
       "    </tr>\n",
       "    <tr>\n",
       "      <td>Ashley</td>\n",
       "      <td>F</td>\n",
       "      <td>1995</td>\n",
       "      <td>26602</td>\n",
       "    </tr>\n",
       "    <tr>\n",
       "      <td>Emily</td>\n",
       "      <td>F</td>\n",
       "      <td>1995</td>\n",
       "      <td>24380</td>\n",
       "    </tr>\n",
       "    <tr>\n",
       "      <td>Samantha</td>\n",
       "      <td>F</td>\n",
       "      <td>1995</td>\n",
       "      <td>21644</td>\n",
       "    </tr>\n",
       "    <tr>\n",
       "      <td>Sarah</td>\n",
       "      <td>F</td>\n",
       "      <td>1995</td>\n",
       "      <td>21383</td>\n",
       "    </tr>\n",
       "  </tbody>\n",
       "</table>\n",
       "</div>"
      ],
      "text/plain": [
       "                   Count\n",
       "Name     Sex Year       \n",
       "Jessica  F   1995  27938\n",
       "Ashley   F   1995  26602\n",
       "Emily    F   1995  24380\n",
       "Samantha F   1995  21644\n",
       "Sarah    F   1995  21383"
      ]
     },
     "execution_count": 6,
     "metadata": {},
     "output_type": "execute_result"
    }
   ],
   "source": [
    "names.set_index([\"Name\", \"Sex\", \"Year\"], inplace=True)\n",
    "names.head()"
   ]
  },
  {
   "cell_type": "markdown",
   "metadata": {},
   "source": [
    "We may want to show the counts for the two years side by side. In other words, we want a data cube with (name, sex) along one axis and year along the other. To do this, we can `.unstack()` the year from the index.  Note this is similar to a reverse Melt operation that we talked about in class -- a more tidy data way to do this may be to setup year as a multi index."
   ]
  },
  {
   "cell_type": "code",
   "execution_count": 7,
   "metadata": {},
   "outputs": [
    {
     "data": {
      "text/html": [
       "<div>\n",
       "<style scoped>\n",
       "    .dataframe tbody tr th:only-of-type {\n",
       "        vertical-align: middle;\n",
       "    }\n",
       "\n",
       "    .dataframe tbody tr th {\n",
       "        vertical-align: top;\n",
       "    }\n",
       "\n",
       "    .dataframe thead tr th {\n",
       "        text-align: left;\n",
       "    }\n",
       "\n",
       "    .dataframe thead tr:last-of-type th {\n",
       "        text-align: right;\n",
       "    }\n",
       "</style>\n",
       "<table border=\"1\" class=\"dataframe\">\n",
       "  <thead>\n",
       "    <tr>\n",
       "      <th></th>\n",
       "      <th></th>\n",
       "      <th colspan=\"2\" halign=\"left\">Count</th>\n",
       "    </tr>\n",
       "    <tr>\n",
       "      <th></th>\n",
       "      <th>Year</th>\n",
       "      <th>1995</th>\n",
       "      <th>2015</th>\n",
       "    </tr>\n",
       "    <tr>\n",
       "      <th>Name</th>\n",
       "      <th>Sex</th>\n",
       "      <th></th>\n",
       "      <th></th>\n",
       "    </tr>\n",
       "  </thead>\n",
       "  <tbody>\n",
       "    <tr>\n",
       "      <td>Aaban</td>\n",
       "      <td>M</td>\n",
       "      <td>NaN</td>\n",
       "      <td>15.0</td>\n",
       "    </tr>\n",
       "    <tr>\n",
       "      <td>Aabha</td>\n",
       "      <td>F</td>\n",
       "      <td>NaN</td>\n",
       "      <td>7.0</td>\n",
       "    </tr>\n",
       "    <tr>\n",
       "      <td>Aabriella</td>\n",
       "      <td>F</td>\n",
       "      <td>NaN</td>\n",
       "      <td>5.0</td>\n",
       "    </tr>\n",
       "    <tr>\n",
       "      <td>Aada</td>\n",
       "      <td>F</td>\n",
       "      <td>NaN</td>\n",
       "      <td>5.0</td>\n",
       "    </tr>\n",
       "    <tr>\n",
       "      <td>Aadam</td>\n",
       "      <td>M</td>\n",
       "      <td>6.0</td>\n",
       "      <td>22.0</td>\n",
       "    </tr>\n",
       "  </tbody>\n",
       "</table>\n",
       "</div>"
      ],
      "text/plain": [
       "              Count      \n",
       "Year           1995  2015\n",
       "Name      Sex            \n",
       "Aaban     M     NaN  15.0\n",
       "Aabha     F     NaN   7.0\n",
       "Aabriella F     NaN   5.0\n",
       "Aada      F     NaN   5.0\n",
       "Aadam     M     6.0  22.0"
      ]
     },
     "execution_count": 7,
     "metadata": {},
     "output_type": "execute_result"
    }
   ],
   "source": [
    "names.unstack(\"Year\").head()"
   ]
  },
  {
   "cell_type": "markdown",
   "metadata": {},
   "source": [
    "The `NaN`s simply indicate that there were no children (more precisely, if you read [the documentation](https://www.ssa.gov/OACT/babynames/limits.html), fewer than five children) born in the United States in that year. In this case, it makes sense to fill these `NaN` values with 0."
   ]
  },
  {
   "cell_type": "code",
   "execution_count": 8,
   "metadata": {},
   "outputs": [
    {
     "data": {
      "text/html": [
       "<div>\n",
       "<style scoped>\n",
       "    .dataframe tbody tr th:only-of-type {\n",
       "        vertical-align: middle;\n",
       "    }\n",
       "\n",
       "    .dataframe tbody tr th {\n",
       "        vertical-align: top;\n",
       "    }\n",
       "\n",
       "    .dataframe thead tr th {\n",
       "        text-align: left;\n",
       "    }\n",
       "\n",
       "    .dataframe thead tr:last-of-type th {\n",
       "        text-align: right;\n",
       "    }\n",
       "</style>\n",
       "<table border=\"1\" class=\"dataframe\">\n",
       "  <thead>\n",
       "    <tr>\n",
       "      <th></th>\n",
       "      <th></th>\n",
       "      <th colspan=\"2\" halign=\"left\">Count</th>\n",
       "    </tr>\n",
       "    <tr>\n",
       "      <th></th>\n",
       "      <th>Year</th>\n",
       "      <th>1995</th>\n",
       "      <th>2015</th>\n",
       "    </tr>\n",
       "    <tr>\n",
       "      <th>Name</th>\n",
       "      <th>Sex</th>\n",
       "      <th></th>\n",
       "      <th></th>\n",
       "    </tr>\n",
       "  </thead>\n",
       "  <tbody>\n",
       "    <tr>\n",
       "      <td>Aaban</td>\n",
       "      <td>M</td>\n",
       "      <td>0.0</td>\n",
       "      <td>15.0</td>\n",
       "    </tr>\n",
       "    <tr>\n",
       "      <td>Aabha</td>\n",
       "      <td>F</td>\n",
       "      <td>0.0</td>\n",
       "      <td>7.0</td>\n",
       "    </tr>\n",
       "    <tr>\n",
       "      <td>Aabriella</td>\n",
       "      <td>F</td>\n",
       "      <td>0.0</td>\n",
       "      <td>5.0</td>\n",
       "    </tr>\n",
       "    <tr>\n",
       "      <td>Aada</td>\n",
       "      <td>F</td>\n",
       "      <td>0.0</td>\n",
       "      <td>5.0</td>\n",
       "    </tr>\n",
       "    <tr>\n",
       "      <td>Aadam</td>\n",
       "      <td>M</td>\n",
       "      <td>6.0</td>\n",
       "      <td>22.0</td>\n",
       "    </tr>\n",
       "  </tbody>\n",
       "</table>\n",
       "</div>"
      ],
      "text/plain": [
       "              Count      \n",
       "Year           1995  2015\n",
       "Name      Sex            \n",
       "Aaban     M     0.0  15.0\n",
       "Aabha     F     0.0   7.0\n",
       "Aabriella F     0.0   5.0\n",
       "Aada      F     0.0   5.0\n",
       "Aadam     M     6.0  22.0"
      ]
     },
     "execution_count": 8,
     "metadata": {},
     "output_type": "execute_result"
    }
   ],
   "source": [
    "names.unstack().fillna(0).head()"
   ]
  },
  {
   "cell_type": "markdown",
   "metadata": {},
   "source": [
    "# Merging (a.k.a. Joining)\n",
    "\n",
    "More commonly, the data sets that we want to combine actually contain different information about the same observations. In other words, instead of stacking the `DataFrame`s on top of each other, as in concatenation, we want to stack them next to each other. The process of combining columns or variables from different data sets is known as **merging** or **joining**.\n",
    "\n",
    "<img src=\"./images/merge.png\" width=\"400\">\n",
    "\n",
    "The observations in the two data sets may not be in the same order, so merging is not as simple as stacking the `DataFrame`s side by side. For example, the process might look as follows:\n",
    "\n",
    "![](./images/one-to-one.png)\n",
    "\n",
    "In _pandas_, merging is accomplished using the `.merge()` function. We have to specify the variable(s) that we want to match across the two data sets. For example, to merge the 1995 names with the 2015 names, we have to join on name and sex."
   ]
  },
  {
   "cell_type": "code",
   "execution_count": 9,
   "metadata": {},
   "outputs": [
    {
     "data": {
      "text/html": [
       "<div>\n",
       "<style scoped>\n",
       "    .dataframe tbody tr th:only-of-type {\n",
       "        vertical-align: middle;\n",
       "    }\n",
       "\n",
       "    .dataframe tbody tr th {\n",
       "        vertical-align: top;\n",
       "    }\n",
       "\n",
       "    .dataframe thead th {\n",
       "        text-align: right;\n",
       "    }\n",
       "</style>\n",
       "<table border=\"1\" class=\"dataframe\">\n",
       "  <thead>\n",
       "    <tr style=\"text-align: right;\">\n",
       "      <th></th>\n",
       "      <th>Name</th>\n",
       "      <th>Sex</th>\n",
       "      <th>Count_x</th>\n",
       "      <th>Year_x</th>\n",
       "      <th>Count_y</th>\n",
       "      <th>Year_y</th>\n",
       "    </tr>\n",
       "  </thead>\n",
       "  <tbody>\n",
       "    <tr>\n",
       "      <td>0</td>\n",
       "      <td>Jessica</td>\n",
       "      <td>F</td>\n",
       "      <td>27938</td>\n",
       "      <td>1995</td>\n",
       "      <td>1587</td>\n",
       "      <td>2015</td>\n",
       "    </tr>\n",
       "    <tr>\n",
       "      <td>1</td>\n",
       "      <td>Ashley</td>\n",
       "      <td>F</td>\n",
       "      <td>26602</td>\n",
       "      <td>1995</td>\n",
       "      <td>3424</td>\n",
       "      <td>2015</td>\n",
       "    </tr>\n",
       "    <tr>\n",
       "      <td>2</td>\n",
       "      <td>Emily</td>\n",
       "      <td>F</td>\n",
       "      <td>24380</td>\n",
       "      <td>1995</td>\n",
       "      <td>11786</td>\n",
       "      <td>2015</td>\n",
       "    </tr>\n",
       "    <tr>\n",
       "      <td>3</td>\n",
       "      <td>Samantha</td>\n",
       "      <td>F</td>\n",
       "      <td>21644</td>\n",
       "      <td>1995</td>\n",
       "      <td>5340</td>\n",
       "      <td>2015</td>\n",
       "    </tr>\n",
       "    <tr>\n",
       "      <td>4</td>\n",
       "      <td>Sarah</td>\n",
       "      <td>F</td>\n",
       "      <td>21383</td>\n",
       "      <td>1995</td>\n",
       "      <td>4521</td>\n",
       "      <td>2015</td>\n",
       "    </tr>\n",
       "  </tbody>\n",
       "</table>\n",
       "</div>"
      ],
      "text/plain": [
       "       Name Sex  Count_x  Year_x  Count_y  Year_y\n",
       "0   Jessica   F    27938    1995     1587    2015\n",
       "1    Ashley   F    26602    1995     3424    2015\n",
       "2     Emily   F    24380    1995    11786    2015\n",
       "3  Samantha   F    21644    1995     5340    2015\n",
       "4     Sarah   F    21383    1995     4521    2015"
      ]
     },
     "execution_count": 9,
     "metadata": {},
     "output_type": "execute_result"
    }
   ],
   "source": [
    "names1995.merge(names2015, on=[\"Name\", \"Sex\"]).head()"
   ]
  },
  {
   "cell_type": "markdown",
   "metadata": {},
   "source": [
    "The variables `Name` and `Sex` that we joined on each appear once in the resulting `DataFrame`. The variable `Count`, which we did not join on, appears twice---since there are columns called `Count` in both `DataFrame`s. Notice that `pandas` automatically appended the suffix `_x` to the name of the variable from the left data set and `_y` to the name from the right. We can customize the suffixes by specifying the `suffixes=` argument."
   ]
  },
  {
   "cell_type": "code",
   "execution_count": 10,
   "metadata": {},
   "outputs": [
    {
     "data": {
      "text/html": [
       "<div>\n",
       "<style scoped>\n",
       "    .dataframe tbody tr th:only-of-type {\n",
       "        vertical-align: middle;\n",
       "    }\n",
       "\n",
       "    .dataframe tbody tr th {\n",
       "        vertical-align: top;\n",
       "    }\n",
       "\n",
       "    .dataframe thead th {\n",
       "        text-align: right;\n",
       "    }\n",
       "</style>\n",
       "<table border=\"1\" class=\"dataframe\">\n",
       "  <thead>\n",
       "    <tr style=\"text-align: right;\">\n",
       "      <th></th>\n",
       "      <th>Name</th>\n",
       "      <th>Sex</th>\n",
       "      <th>Count1995</th>\n",
       "      <th>Year1995</th>\n",
       "      <th>Count2015</th>\n",
       "      <th>Year2015</th>\n",
       "    </tr>\n",
       "  </thead>\n",
       "  <tbody>\n",
       "    <tr>\n",
       "      <td>0</td>\n",
       "      <td>Jessica</td>\n",
       "      <td>F</td>\n",
       "      <td>27938</td>\n",
       "      <td>1995</td>\n",
       "      <td>1587</td>\n",
       "      <td>2015</td>\n",
       "    </tr>\n",
       "    <tr>\n",
       "      <td>1</td>\n",
       "      <td>Ashley</td>\n",
       "      <td>F</td>\n",
       "      <td>26602</td>\n",
       "      <td>1995</td>\n",
       "      <td>3424</td>\n",
       "      <td>2015</td>\n",
       "    </tr>\n",
       "    <tr>\n",
       "      <td>2</td>\n",
       "      <td>Emily</td>\n",
       "      <td>F</td>\n",
       "      <td>24380</td>\n",
       "      <td>1995</td>\n",
       "      <td>11786</td>\n",
       "      <td>2015</td>\n",
       "    </tr>\n",
       "    <tr>\n",
       "      <td>3</td>\n",
       "      <td>Samantha</td>\n",
       "      <td>F</td>\n",
       "      <td>21644</td>\n",
       "      <td>1995</td>\n",
       "      <td>5340</td>\n",
       "      <td>2015</td>\n",
       "    </tr>\n",
       "    <tr>\n",
       "      <td>4</td>\n",
       "      <td>Sarah</td>\n",
       "      <td>F</td>\n",
       "      <td>21383</td>\n",
       "      <td>1995</td>\n",
       "      <td>4521</td>\n",
       "      <td>2015</td>\n",
       "    </tr>\n",
       "  </tbody>\n",
       "</table>\n",
       "</div>"
      ],
      "text/plain": [
       "       Name Sex  Count1995  Year1995  Count2015  Year2015\n",
       "0   Jessica   F      27938      1995       1587      2015\n",
       "1    Ashley   F      26602      1995       3424      2015\n",
       "2     Emily   F      24380      1995      11786      2015\n",
       "3  Samantha   F      21644      1995       5340      2015\n",
       "4     Sarah   F      21383      1995       4521      2015"
      ]
     },
     "execution_count": 10,
     "metadata": {},
     "output_type": "execute_result"
    }
   ],
   "source": [
    "names1995.merge(names2015, on=[\"Name\", \"Sex\"], suffixes=(\"1995\", \"2015\")).head()"
   ]
  },
  {
   "cell_type": "markdown",
   "metadata": {},
   "source": [
    "In the code above, we assumed that the columns that we joined on had the same names in the two data sets. What if they had different names? For example, suppose the columns had been lowercase in one and uppercase in the other. We can specify which variables to use from the left and right data sets using the `left_on=` and `right_on=` arguments."
   ]
  },
  {
   "cell_type": "code",
   "execution_count": 11,
   "metadata": {},
   "outputs": [
    {
     "data": {
      "text/html": [
       "<div>\n",
       "<style scoped>\n",
       "    .dataframe tbody tr th:only-of-type {\n",
       "        vertical-align: middle;\n",
       "    }\n",
       "\n",
       "    .dataframe tbody tr th {\n",
       "        vertical-align: top;\n",
       "    }\n",
       "\n",
       "    .dataframe thead th {\n",
       "        text-align: right;\n",
       "    }\n",
       "</style>\n",
       "<table border=\"1\" class=\"dataframe\">\n",
       "  <thead>\n",
       "    <tr style=\"text-align: right;\">\n",
       "      <th></th>\n",
       "      <th>name</th>\n",
       "      <th>sex</th>\n",
       "      <th>count</th>\n",
       "      <th>year</th>\n",
       "      <th>NAME</th>\n",
       "      <th>SEX</th>\n",
       "      <th>COUNT</th>\n",
       "      <th>YEAR</th>\n",
       "    </tr>\n",
       "  </thead>\n",
       "  <tbody>\n",
       "    <tr>\n",
       "      <td>0</td>\n",
       "      <td>Jessica</td>\n",
       "      <td>F</td>\n",
       "      <td>27938</td>\n",
       "      <td>1995</td>\n",
       "      <td>Jessica</td>\n",
       "      <td>F</td>\n",
       "      <td>1587</td>\n",
       "      <td>2015</td>\n",
       "    </tr>\n",
       "    <tr>\n",
       "      <td>1</td>\n",
       "      <td>Ashley</td>\n",
       "      <td>F</td>\n",
       "      <td>26602</td>\n",
       "      <td>1995</td>\n",
       "      <td>Ashley</td>\n",
       "      <td>F</td>\n",
       "      <td>3424</td>\n",
       "      <td>2015</td>\n",
       "    </tr>\n",
       "    <tr>\n",
       "      <td>2</td>\n",
       "      <td>Emily</td>\n",
       "      <td>F</td>\n",
       "      <td>24380</td>\n",
       "      <td>1995</td>\n",
       "      <td>Emily</td>\n",
       "      <td>F</td>\n",
       "      <td>11786</td>\n",
       "      <td>2015</td>\n",
       "    </tr>\n",
       "    <tr>\n",
       "      <td>3</td>\n",
       "      <td>Samantha</td>\n",
       "      <td>F</td>\n",
       "      <td>21644</td>\n",
       "      <td>1995</td>\n",
       "      <td>Samantha</td>\n",
       "      <td>F</td>\n",
       "      <td>5340</td>\n",
       "      <td>2015</td>\n",
       "    </tr>\n",
       "    <tr>\n",
       "      <td>4</td>\n",
       "      <td>Sarah</td>\n",
       "      <td>F</td>\n",
       "      <td>21383</td>\n",
       "      <td>1995</td>\n",
       "      <td>Sarah</td>\n",
       "      <td>F</td>\n",
       "      <td>4521</td>\n",
       "      <td>2015</td>\n",
       "    </tr>\n",
       "  </tbody>\n",
       "</table>\n",
       "</div>"
      ],
      "text/plain": [
       "       name sex  count  year      NAME SEX  COUNT  YEAR\n",
       "0   Jessica   F  27938  1995   Jessica   F   1587  2015\n",
       "1    Ashley   F  26602  1995    Ashley   F   3424  2015\n",
       "2     Emily   F  24380  1995     Emily   F  11786  2015\n",
       "3  Samantha   F  21644  1995  Samantha   F   5340  2015\n",
       "4     Sarah   F  21383  1995     Sarah   F   4521  2015"
      ]
     },
     "execution_count": 11,
     "metadata": {},
     "output_type": "execute_result"
    }
   ],
   "source": [
    "# Create new DataFrames where the column names are different\n",
    "names1995_lower = names1995.copy()\n",
    "names2015_upper = names2015.copy()\n",
    "names1995_lower.columns = names1995.columns.str.lower()\n",
    "names2015_upper.columns = names2015.columns.str.upper()\n",
    "\n",
    "# This is how you merge them.\n",
    "names1995_lower.merge(\n",
    "    names2015_upper,\n",
    "    left_on=(\"name\", \"sex\"),\n",
    "    right_on=(\"NAME\", \"SEX\")\n",
    ").head()"
   ]
  },
  {
   "cell_type": "markdown",
   "metadata": {},
   "source": [
    "Note that here we've managed to get some redundant columns so we would need to drop these to keep our data tidy!"
   ]
  },
  {
   "cell_type": "markdown",
   "metadata": {},
   "source": [
    "What if the \"variables\" that we want to join on are in the index? We can always call `.reset_index()` to make them columns, but we can also specify the arguments `left_index=True` or `right_index=True` to force `pandas` to use the index instead of columns.  Note that if we were to use the Pandas `join` command the default action would be to join on the indicies."
   ]
  },
  {
   "cell_type": "code",
   "execution_count": 12,
   "metadata": {},
   "outputs": [
    {
     "data": {
      "text/html": [
       "<div>\n",
       "<style scoped>\n",
       "    .dataframe tbody tr th:only-of-type {\n",
       "        vertical-align: middle;\n",
       "    }\n",
       "\n",
       "    .dataframe tbody tr th {\n",
       "        vertical-align: top;\n",
       "    }\n",
       "\n",
       "    .dataframe thead th {\n",
       "        text-align: right;\n",
       "    }\n",
       "</style>\n",
       "<table border=\"1\" class=\"dataframe\">\n",
       "  <thead>\n",
       "    <tr style=\"text-align: right;\">\n",
       "      <th></th>\n",
       "      <th></th>\n",
       "      <th>Count</th>\n",
       "      <th>Year</th>\n",
       "    </tr>\n",
       "    <tr>\n",
       "      <th>Name</th>\n",
       "      <th>Sex</th>\n",
       "      <th></th>\n",
       "      <th></th>\n",
       "    </tr>\n",
       "  </thead>\n",
       "  <tbody>\n",
       "    <tr>\n",
       "      <td>Jessica</td>\n",
       "      <td>F</td>\n",
       "      <td>27938</td>\n",
       "      <td>1995</td>\n",
       "    </tr>\n",
       "    <tr>\n",
       "      <td>Ashley</td>\n",
       "      <td>F</td>\n",
       "      <td>26602</td>\n",
       "      <td>1995</td>\n",
       "    </tr>\n",
       "    <tr>\n",
       "      <td>Emily</td>\n",
       "      <td>F</td>\n",
       "      <td>24380</td>\n",
       "      <td>1995</td>\n",
       "    </tr>\n",
       "    <tr>\n",
       "      <td>Samantha</td>\n",
       "      <td>F</td>\n",
       "      <td>21644</td>\n",
       "      <td>1995</td>\n",
       "    </tr>\n",
       "    <tr>\n",
       "      <td>Sarah</td>\n",
       "      <td>F</td>\n",
       "      <td>21383</td>\n",
       "      <td>1995</td>\n",
       "    </tr>\n",
       "  </tbody>\n",
       "</table>\n",
       "</div>"
      ],
      "text/plain": [
       "              Count  Year\n",
       "Name     Sex             \n",
       "Jessica  F    27938  1995\n",
       "Ashley   F    26602  1995\n",
       "Emily    F    24380  1995\n",
       "Samantha F    21644  1995\n",
       "Sarah    F    21383  1995"
      ]
     },
     "execution_count": 12,
     "metadata": {},
     "output_type": "execute_result"
    }
   ],
   "source": [
    "names1995_idx = names1995.set_index([\"Name\", \"Sex\"])\n",
    "names1995_idx.head()"
   ]
  },
  {
   "cell_type": "code",
   "execution_count": 13,
   "metadata": {},
   "outputs": [
    {
     "data": {
      "text/html": [
       "<div>\n",
       "<style scoped>\n",
       "    .dataframe tbody tr th:only-of-type {\n",
       "        vertical-align: middle;\n",
       "    }\n",
       "\n",
       "    .dataframe tbody tr th {\n",
       "        vertical-align: top;\n",
       "    }\n",
       "\n",
       "    .dataframe thead th {\n",
       "        text-align: right;\n",
       "    }\n",
       "</style>\n",
       "<table border=\"1\" class=\"dataframe\">\n",
       "  <thead>\n",
       "    <tr style=\"text-align: right;\">\n",
       "      <th></th>\n",
       "      <th>Count_x</th>\n",
       "      <th>Year_x</th>\n",
       "      <th>Name</th>\n",
       "      <th>Sex</th>\n",
       "      <th>Count_y</th>\n",
       "      <th>Year_y</th>\n",
       "    </tr>\n",
       "  </thead>\n",
       "  <tbody>\n",
       "    <tr>\n",
       "      <td>205</td>\n",
       "      <td>27938</td>\n",
       "      <td>1995</td>\n",
       "      <td>Jessica</td>\n",
       "      <td>F</td>\n",
       "      <td>1587</td>\n",
       "      <td>2015</td>\n",
       "    </tr>\n",
       "    <tr>\n",
       "      <td>84</td>\n",
       "      <td>26602</td>\n",
       "      <td>1995</td>\n",
       "      <td>Ashley</td>\n",
       "      <td>F</td>\n",
       "      <td>3424</td>\n",
       "      <td>2015</td>\n",
       "    </tr>\n",
       "    <tr>\n",
       "      <td>7</td>\n",
       "      <td>24380</td>\n",
       "      <td>1995</td>\n",
       "      <td>Emily</td>\n",
       "      <td>F</td>\n",
       "      <td>11786</td>\n",
       "      <td>2015</td>\n",
       "    </tr>\n",
       "    <tr>\n",
       "      <td>39</td>\n",
       "      <td>21644</td>\n",
       "      <td>1995</td>\n",
       "      <td>Samantha</td>\n",
       "      <td>F</td>\n",
       "      <td>5340</td>\n",
       "      <td>2015</td>\n",
       "    </tr>\n",
       "    <tr>\n",
       "      <td>56</td>\n",
       "      <td>21383</td>\n",
       "      <td>1995</td>\n",
       "      <td>Sarah</td>\n",
       "      <td>F</td>\n",
       "      <td>4521</td>\n",
       "      <td>2015</td>\n",
       "    </tr>\n",
       "  </tbody>\n",
       "</table>\n",
       "</div>"
      ],
      "text/plain": [
       "     Count_x  Year_x      Name Sex  Count_y  Year_y\n",
       "205    27938    1995   Jessica   F     1587    2015\n",
       "84     26602    1995    Ashley   F     3424    2015\n",
       "7      24380    1995     Emily   F    11786    2015\n",
       "39     21644    1995  Samantha   F     5340    2015\n",
       "56     21383    1995     Sarah   F     4521    2015"
      ]
     },
     "execution_count": 13,
     "metadata": {},
     "output_type": "execute_result"
    }
   ],
   "source": [
    "names1995_idx.merge(names2015, left_index=True, right_on=(\"Name\", \"Sex\")).head()"
   ]
  },
  {
   "cell_type": "markdown",
   "metadata": {},
   "source": [
    "Note that this worked because the left `DataFrame` had an index with two levels, which were joined to two columns from the right `DataFrame`."
   ]
  },
  {
   "cell_type": "markdown",
   "metadata": {},
   "source": [
    "# One-to-One and Many-to-One Relationships\n",
    "\n",
    "In the example above, there was at most one (name, sex) combination in the 2015 data set for each (name, sex) combination in the 1995 data set. These two data sets are thus said to have a **one-to-one relationship**. Another example of a one-to-one data set is the Beatles example from above. Each Beatle appears in each data set exactly once, so the name is uniquely identifying.\n",
    "\n",
    "![](./images/one-to-one.png)\n",
    "\n",
    "However, two data sets need not have a one-to-one relationship. For example, a data set that specifies the instrument(s) that each Beatle played would potentially feature each Beatle multiple times (if they played multiple instruments). If we joined this data set to the \"Beatles career\" data set, then each row in the \"Beatles career\" data set would be mapped to several rows in the \"instruments\" data set. These two data sets are said to have a **many-to-one relationship**.\n",
    "\n",
    "![](./images/many-to-one.png)"
   ]
  },
  {
   "cell_type": "markdown",
   "metadata": {},
   "source": [
    "# Many-to-Many Relationships: A Cautionary Tale\n",
    "\n",
    "In the baby names data, the name is not uniquely identifying. For example, there are both males and females with the name \"Jessie\"."
   ]
  },
  {
   "cell_type": "code",
   "execution_count": 14,
   "metadata": {},
   "outputs": [
    {
     "data": {
      "text/html": [
       "<div>\n",
       "<style scoped>\n",
       "    .dataframe tbody tr th:only-of-type {\n",
       "        vertical-align: middle;\n",
       "    }\n",
       "\n",
       "    .dataframe tbody tr th {\n",
       "        vertical-align: top;\n",
       "    }\n",
       "\n",
       "    .dataframe thead th {\n",
       "        text-align: right;\n",
       "    }\n",
       "</style>\n",
       "<table border=\"1\" class=\"dataframe\">\n",
       "  <thead>\n",
       "    <tr style=\"text-align: right;\">\n",
       "      <th></th>\n",
       "      <th>Name</th>\n",
       "      <th>Sex</th>\n",
       "      <th>Count</th>\n",
       "      <th>Year</th>\n",
       "    </tr>\n",
       "  </thead>\n",
       "  <tbody>\n",
       "    <tr>\n",
       "      <td>248</td>\n",
       "      <td>Jessie</td>\n",
       "      <td>F</td>\n",
       "      <td>1138</td>\n",
       "      <td>1995</td>\n",
       "    </tr>\n",
       "    <tr>\n",
       "      <td>16046</td>\n",
       "      <td>Jessie</td>\n",
       "      <td>M</td>\n",
       "      <td>903</td>\n",
       "      <td>1995</td>\n",
       "    </tr>\n",
       "  </tbody>\n",
       "</table>\n",
       "</div>"
      ],
      "text/plain": [
       "         Name Sex  Count  Year\n",
       "248    Jessie   F   1138  1995\n",
       "16046  Jessie   M    903  1995"
      ]
     },
     "execution_count": 14,
     "metadata": {},
     "output_type": "execute_result"
    }
   ],
   "source": [
    "jessie1995 = names1995[names1995[\"Name\"] == \"Jessie\"]\n",
    "jessie2015 = names2015[names2015[\"Name\"] == \"Jessie\"]\n",
    "\n",
    "jessie1995"
   ]
  },
  {
   "cell_type": "markdown",
   "metadata": {},
   "source": [
    "That is why we have to be sure to join on both name and sex. But what would go wrong if we joined these two `DataFrame`s on just \"Name\"? Let's try it out:"
   ]
  },
  {
   "cell_type": "code",
   "execution_count": 15,
   "metadata": {},
   "outputs": [
    {
     "data": {
      "text/html": [
       "<div>\n",
       "<style scoped>\n",
       "    .dataframe tbody tr th:only-of-type {\n",
       "        vertical-align: middle;\n",
       "    }\n",
       "\n",
       "    .dataframe tbody tr th {\n",
       "        vertical-align: top;\n",
       "    }\n",
       "\n",
       "    .dataframe thead th {\n",
       "        text-align: right;\n",
       "    }\n",
       "</style>\n",
       "<table border=\"1\" class=\"dataframe\">\n",
       "  <thead>\n",
       "    <tr style=\"text-align: right;\">\n",
       "      <th></th>\n",
       "      <th>Name</th>\n",
       "      <th>Sex_x</th>\n",
       "      <th>Count_x</th>\n",
       "      <th>Year_x</th>\n",
       "      <th>Sex_y</th>\n",
       "      <th>Count_y</th>\n",
       "      <th>Year_y</th>\n",
       "    </tr>\n",
       "  </thead>\n",
       "  <tbody>\n",
       "    <tr>\n",
       "      <td>0</td>\n",
       "      <td>Jessie</td>\n",
       "      <td>F</td>\n",
       "      <td>1138</td>\n",
       "      <td>1995</td>\n",
       "      <td>F</td>\n",
       "      <td>469</td>\n",
       "      <td>2015</td>\n",
       "    </tr>\n",
       "    <tr>\n",
       "      <td>1</td>\n",
       "      <td>Jessie</td>\n",
       "      <td>F</td>\n",
       "      <td>1138</td>\n",
       "      <td>1995</td>\n",
       "      <td>M</td>\n",
       "      <td>233</td>\n",
       "      <td>2015</td>\n",
       "    </tr>\n",
       "    <tr>\n",
       "      <td>2</td>\n",
       "      <td>Jessie</td>\n",
       "      <td>M</td>\n",
       "      <td>903</td>\n",
       "      <td>1995</td>\n",
       "      <td>F</td>\n",
       "      <td>469</td>\n",
       "      <td>2015</td>\n",
       "    </tr>\n",
       "    <tr>\n",
       "      <td>3</td>\n",
       "      <td>Jessie</td>\n",
       "      <td>M</td>\n",
       "      <td>903</td>\n",
       "      <td>1995</td>\n",
       "      <td>M</td>\n",
       "      <td>233</td>\n",
       "      <td>2015</td>\n",
       "    </tr>\n",
       "  </tbody>\n",
       "</table>\n",
       "</div>"
      ],
      "text/plain": [
       "     Name Sex_x  Count_x  Year_x Sex_y  Count_y  Year_y\n",
       "0  Jessie     F     1138    1995     F      469    2015\n",
       "1  Jessie     F     1138    1995     M      233    2015\n",
       "2  Jessie     M      903    1995     F      469    2015\n",
       "3  Jessie     M      903    1995     M      233    2015"
      ]
     },
     "execution_count": 15,
     "metadata": {},
     "output_type": "execute_result"
    }
   ],
   "source": [
    "jessie1995.merge(jessie2015, on=[\"Name\"])"
   ]
  },
  {
   "cell_type": "markdown",
   "metadata": {},
   "source": [
    "We see that Jessie ends up appearing four times.\n",
    "\n",
    "- Female Jessies from 1995 are matched with female Jessies from 2015. (Good!)\n",
    "- Male Jessies from 1995 are matched with male Jessies from 2015. (Good!)\n",
    "- Female Jessies from 1995 are matched with male Jessies from 2015. (Huh?)\n",
    "- Male Jessies from 1995 are matched with female Jessies from 2015. (Huh?)\n",
    "\n",
    "The problem is that there were multiple Jessies in the 1995 data and multiple Jessies in the 2015 data. We say that these two data sets have a **many-to-many relationship**."
   ]
  },
  {
   "cell_type": "markdown",
   "metadata": {},
   "source": [
    "# Joining Data\n",
    "\n",
    "In the previous section, we discussed how to _merge_ (or _join_) two data sets by matching on certain variables. But what happens when no match can be found for a row in one `DataFrame`? \n",
    "\n",
    "First, let's determine how _pandas_ handles this situation by default. The name \"Nevaeh\", which is \"Heaven\" spelled backwards, is said to have taken off when Sonny Sandoval of the band P.O.D. gave his daughter the name in 2000. Let's look at how common this name was four years earlier and four years after."
   ]
  },
  {
   "cell_type": "code",
   "execution_count": 16,
   "metadata": {},
   "outputs": [],
   "source": [
    "names1996 = pd.read_csv(\"./data/names/yob1996.txt\",\n",
    "                        header=None,\n",
    "                        names=[\"Name\", \"Sex\", \"Count\"])\n",
    "names2004 = pd.read_csv(\"./data/names/yob2004.txt\",\n",
    "                        header=None,\n",
    "                        names=[\"Name\", \"Sex\", \"Count\"])"
   ]
  },
  {
   "cell_type": "code",
   "execution_count": 17,
   "metadata": {},
   "outputs": [
    {
     "data": {
      "text/html": [
       "<div>\n",
       "<style scoped>\n",
       "    .dataframe tbody tr th:only-of-type {\n",
       "        vertical-align: middle;\n",
       "    }\n",
       "\n",
       "    .dataframe tbody tr th {\n",
       "        vertical-align: top;\n",
       "    }\n",
       "\n",
       "    .dataframe thead th {\n",
       "        text-align: right;\n",
       "    }\n",
       "</style>\n",
       "<table border=\"1\" class=\"dataframe\">\n",
       "  <thead>\n",
       "    <tr style=\"text-align: right;\">\n",
       "      <th></th>\n",
       "      <th>Name</th>\n",
       "      <th>Sex</th>\n",
       "      <th>Count</th>\n",
       "    </tr>\n",
       "  </thead>\n",
       "  <tbody>\n",
       "  </tbody>\n",
       "</table>\n",
       "</div>"
      ],
      "text/plain": [
       "Empty DataFrame\n",
       "Columns: [Name, Sex, Count]\n",
       "Index: []"
      ]
     },
     "execution_count": 17,
     "metadata": {},
     "output_type": "execute_result"
    }
   ],
   "source": [
    "names1996[names1996.Name == \"Nevaeh\"]"
   ]
  },
  {
   "cell_type": "code",
   "execution_count": 18,
   "metadata": {},
   "outputs": [
    {
     "data": {
      "text/html": [
       "<div>\n",
       "<style scoped>\n",
       "    .dataframe tbody tr th:only-of-type {\n",
       "        vertical-align: middle;\n",
       "    }\n",
       "\n",
       "    .dataframe tbody tr th {\n",
       "        vertical-align: top;\n",
       "    }\n",
       "\n",
       "    .dataframe thead th {\n",
       "        text-align: right;\n",
       "    }\n",
       "</style>\n",
       "<table border=\"1\" class=\"dataframe\">\n",
       "  <thead>\n",
       "    <tr style=\"text-align: right;\">\n",
       "      <th></th>\n",
       "      <th>Name</th>\n",
       "      <th>Sex</th>\n",
       "      <th>Count</th>\n",
       "    </tr>\n",
       "  </thead>\n",
       "  <tbody>\n",
       "    <tr>\n",
       "      <td>103</td>\n",
       "      <td>Nevaeh</td>\n",
       "      <td>F</td>\n",
       "      <td>3179</td>\n",
       "    </tr>\n",
       "    <tr>\n",
       "      <td>21764</td>\n",
       "      <td>Nevaeh</td>\n",
       "      <td>M</td>\n",
       "      <td>35</td>\n",
       "    </tr>\n",
       "  </tbody>\n",
       "</table>\n",
       "</div>"
      ],
      "text/plain": [
       "         Name Sex  Count\n",
       "103    Nevaeh   F   3179\n",
       "21764  Nevaeh   M     35"
      ]
     },
     "execution_count": 18,
     "metadata": {},
     "output_type": "execute_result"
    }
   ],
   "source": [
    "names2004[names2004.Name == \"Nevaeh\"]"
   ]
  },
  {
   "cell_type": "markdown",
   "metadata": {},
   "source": [
    "In 1996, there were no girls (or fewer than 5) named Nevaeh; just eight years later, there were over 3000 girls (and 27 boys) with the name. It seems like Sonny Sandoval had a huge effect.\n",
    "\n",
    "What will happen to the name \"Nevaeh\" when we merge the two data sets?"
   ]
  },
  {
   "cell_type": "code",
   "execution_count": 19,
   "metadata": {},
   "outputs": [
    {
     "data": {
      "text/html": [
       "<div>\n",
       "<style scoped>\n",
       "    .dataframe tbody tr th:only-of-type {\n",
       "        vertical-align: middle;\n",
       "    }\n",
       "\n",
       "    .dataframe tbody tr th {\n",
       "        vertical-align: top;\n",
       "    }\n",
       "\n",
       "    .dataframe thead th {\n",
       "        text-align: right;\n",
       "    }\n",
       "</style>\n",
       "<table border=\"1\" class=\"dataframe\">\n",
       "  <thead>\n",
       "    <tr style=\"text-align: right;\">\n",
       "      <th></th>\n",
       "      <th>Name</th>\n",
       "      <th>Sex</th>\n",
       "      <th>Count1996</th>\n",
       "      <th>Count2004</th>\n",
       "    </tr>\n",
       "  </thead>\n",
       "  <tbody>\n",
       "  </tbody>\n",
       "</table>\n",
       "</div>"
      ],
      "text/plain": [
       "Empty DataFrame\n",
       "Columns: [Name, Sex, Count1996, Count2004]\n",
       "Index: []"
      ]
     },
     "execution_count": 19,
     "metadata": {},
     "output_type": "execute_result"
    }
   ],
   "source": [
    "names = names1996.merge(names2004, on=[\"Name\", \"Sex\"], suffixes=(\"1996\", \"2004\"))\n",
    "names[names.Name == \"Nevaeh\"]"
   ]
  },
  {
   "cell_type": "markdown",
   "metadata": {},
   "source": [
    "By default, _pandas_ only includes combinations that are present in _both_ `DataFrame`s. If it cannot find a match for a row in one `DataFrame`, then the combination is simply dropped."
   ]
  },
  {
   "cell_type": "markdown",
   "metadata": {},
   "source": [
    "But in this context, the fact that a name does not appear in one data set is informative. It means that no babies were born in that year with that name. (Technically, it means that fewer than 5 babies were born with that name, as any name that was assigned fewer than 5 times is omitted for privacy reasons.) We might want to include names that appeared in only one of the two `DataFrame`s, rather than just the names that appeared in both. \n",
    "\n",
    "There are four types of joins, distinguished by whether they include names from the left `DataFrame`, the right `DataFrame`, both, or neither:\n",
    "\n",
    "1. **inner join** (default): only values that are present in _both_ `DataFrame`s are included in the result\n",
    "2. **outer join**: any value that appears in _either_ `DataFrame` is included in the result\n",
    "3. **left join**: any value that appears in the _left_ `DataFrame` is included in the result, whether or not it appears in the right `DataFrame`\n",
    "4. **right join**: any value that appears in the _right_ `DataFrame` is included in the result, whether or not it appears in the left `DataFrame`.\n",
    "\n",
    "In _pandas_, the join type is specified using the `how=` argument.\n",
    "\n",
    "Now let's look at examples of each of these types of joins."
   ]
  },
  {
   "cell_type": "code",
   "execution_count": 20,
   "metadata": {},
   "outputs": [
    {
     "data": {
      "text/html": [
       "<div>\n",
       "<style scoped>\n",
       "    .dataframe tbody tr th:only-of-type {\n",
       "        vertical-align: middle;\n",
       "    }\n",
       "\n",
       "    .dataframe tbody tr th {\n",
       "        vertical-align: top;\n",
       "    }\n",
       "\n",
       "    .dataframe thead th {\n",
       "        text-align: right;\n",
       "    }\n",
       "</style>\n",
       "<table border=\"1\" class=\"dataframe\">\n",
       "  <thead>\n",
       "    <tr style=\"text-align: right;\">\n",
       "      <th></th>\n",
       "      <th>Name</th>\n",
       "      <th>Sex</th>\n",
       "      <th>Count1996</th>\n",
       "      <th>Count2004</th>\n",
       "    </tr>\n",
       "  </thead>\n",
       "  <tbody>\n",
       "    <tr>\n",
       "      <td>0</td>\n",
       "      <td>Emily</td>\n",
       "      <td>F</td>\n",
       "      <td>25151</td>\n",
       "      <td>25037</td>\n",
       "    </tr>\n",
       "    <tr>\n",
       "      <td>1</td>\n",
       "      <td>Jessica</td>\n",
       "      <td>F</td>\n",
       "      <td>24198</td>\n",
       "      <td>9470</td>\n",
       "    </tr>\n",
       "    <tr>\n",
       "      <td>2</td>\n",
       "      <td>Ashley</td>\n",
       "      <td>F</td>\n",
       "      <td>23677</td>\n",
       "      <td>14373</td>\n",
       "    </tr>\n",
       "    <tr>\n",
       "      <td>3</td>\n",
       "      <td>Sarah</td>\n",
       "      <td>F</td>\n",
       "      <td>21040</td>\n",
       "      <td>12737</td>\n",
       "    </tr>\n",
       "    <tr>\n",
       "      <td>4</td>\n",
       "      <td>Samantha</td>\n",
       "      <td>F</td>\n",
       "      <td>20548</td>\n",
       "      <td>13783</td>\n",
       "    </tr>\n",
       "  </tbody>\n",
       "</table>\n",
       "</div>"
      ],
      "text/plain": [
       "       Name Sex  Count1996  Count2004\n",
       "0     Emily   F      25151      25037\n",
       "1   Jessica   F      24198       9470\n",
       "2    Ashley   F      23677      14373\n",
       "3     Sarah   F      21040      12737\n",
       "4  Samantha   F      20548      13783"
      ]
     },
     "execution_count": 20,
     "metadata": {},
     "output_type": "execute_result"
    }
   ],
   "source": [
    "# inner join\n",
    "names_inner = names1996.merge(names2004, on=[\"Name\", \"Sex\"], how=\"inner\", suffixes=(\"1996\", \"2004\"))\n",
    "names_inner.head()"
   ]
  },
  {
   "cell_type": "code",
   "execution_count": 21,
   "metadata": {},
   "outputs": [
    {
     "data": {
      "text/html": [
       "<div>\n",
       "<style scoped>\n",
       "    .dataframe tbody tr th:only-of-type {\n",
       "        vertical-align: middle;\n",
       "    }\n",
       "\n",
       "    .dataframe tbody tr th {\n",
       "        vertical-align: top;\n",
       "    }\n",
       "\n",
       "    .dataframe thead th {\n",
       "        text-align: right;\n",
       "    }\n",
       "</style>\n",
       "<table border=\"1\" class=\"dataframe\">\n",
       "  <thead>\n",
       "    <tr style=\"text-align: right;\">\n",
       "      <th></th>\n",
       "      <th>Name</th>\n",
       "      <th>Sex</th>\n",
       "      <th>Count1996</th>\n",
       "      <th>Count2004</th>\n",
       "    </tr>\n",
       "  </thead>\n",
       "  <tbody>\n",
       "    <tr>\n",
       "      <td>0</td>\n",
       "      <td>Emily</td>\n",
       "      <td>F</td>\n",
       "      <td>25151.0</td>\n",
       "      <td>25037.0</td>\n",
       "    </tr>\n",
       "    <tr>\n",
       "      <td>1</td>\n",
       "      <td>Jessica</td>\n",
       "      <td>F</td>\n",
       "      <td>24198.0</td>\n",
       "      <td>9470.0</td>\n",
       "    </tr>\n",
       "    <tr>\n",
       "      <td>2</td>\n",
       "      <td>Ashley</td>\n",
       "      <td>F</td>\n",
       "      <td>23677.0</td>\n",
       "      <td>14373.0</td>\n",
       "    </tr>\n",
       "    <tr>\n",
       "      <td>3</td>\n",
       "      <td>Sarah</td>\n",
       "      <td>F</td>\n",
       "      <td>21040.0</td>\n",
       "      <td>12737.0</td>\n",
       "    </tr>\n",
       "    <tr>\n",
       "      <td>4</td>\n",
       "      <td>Samantha</td>\n",
       "      <td>F</td>\n",
       "      <td>20548.0</td>\n",
       "      <td>13783.0</td>\n",
       "    </tr>\n",
       "  </tbody>\n",
       "</table>\n",
       "</div>"
      ],
      "text/plain": [
       "       Name Sex  Count1996  Count2004\n",
       "0     Emily   F    25151.0    25037.0\n",
       "1   Jessica   F    24198.0     9470.0\n",
       "2    Ashley   F    23677.0    14373.0\n",
       "3     Sarah   F    21040.0    12737.0\n",
       "4  Samantha   F    20548.0    13783.0"
      ]
     },
     "execution_count": 21,
     "metadata": {},
     "output_type": "execute_result"
    }
   ],
   "source": [
    "# outer join\n",
    "names_outer = names1996.merge(names2004, on=[\"Name\", \"Sex\"], how=\"outer\", suffixes=(\"1996\", \"2004\"))\n",
    "names_outer.head()"
   ]
  },
  {
   "cell_type": "markdown",
   "metadata": {},
   "source": [
    "Names like \"Zyrell\" and \"Zyron\" appeared in the 2004 data but not the 1996 data. For this reason, their count in 1996 is `NaN`. In general, there will be `NaN`s in a `DataFrame` resulting from an outer join. Any time a name appears in one `DataFrame` but not the other, there will be `NaN`s in the columns from the `DataFrame` whose data is missing."
   ]
  },
  {
   "cell_type": "code",
   "execution_count": 22,
   "metadata": {},
   "outputs": [
    {
     "data": {
      "text/plain": [
       "Name             0\n",
       "Sex              0\n",
       "Count1996    11988\n",
       "Count2004     6363\n",
       "dtype: int64"
      ]
     },
     "execution_count": 22,
     "metadata": {},
     "output_type": "execute_result"
    }
   ],
   "source": [
    "names_outer.isnull().sum()"
   ]
  },
  {
   "cell_type": "markdown",
   "metadata": {},
   "source": [
    "By contrast, there are no `NaN`s when we do an inner join. That is because we restrict to only the (name, sex) pairs that appeared in both `DataFrame`s, so we have counts for both 1996 and 2014."
   ]
  },
  {
   "cell_type": "code",
   "execution_count": 23,
   "metadata": {},
   "outputs": [
    {
     "data": {
      "text/plain": [
       "Name         0\n",
       "Sex          0\n",
       "Count1996    0\n",
       "Count2004    0\n",
       "dtype: int64"
      ]
     },
     "execution_count": 23,
     "metadata": {},
     "output_type": "execute_result"
    }
   ],
   "source": [
    "names_inner.isnull().sum()"
   ]
  },
  {
   "cell_type": "markdown",
   "metadata": {},
   "source": [
    "Left and right joins preserve data from one `DataFrame` but not the other. For example, if we were trying to calculate the percentage change for each name from 1996 to 2004, we would want to include all of the names that appeared in the 1996 data. If the name did not appear in the 2004 data, then that is informative."
   ]
  },
  {
   "cell_type": "code",
   "execution_count": 24,
   "metadata": {},
   "outputs": [
    {
     "data": {
      "text/html": [
       "<div>\n",
       "<style scoped>\n",
       "    .dataframe tbody tr th:only-of-type {\n",
       "        vertical-align: middle;\n",
       "    }\n",
       "\n",
       "    .dataframe tbody tr th {\n",
       "        vertical-align: top;\n",
       "    }\n",
       "\n",
       "    .dataframe thead th {\n",
       "        text-align: right;\n",
       "    }\n",
       "</style>\n",
       "<table border=\"1\" class=\"dataframe\">\n",
       "  <thead>\n",
       "    <tr style=\"text-align: right;\">\n",
       "      <th></th>\n",
       "      <th>Name</th>\n",
       "      <th>Sex</th>\n",
       "      <th>Count1996</th>\n",
       "      <th>Count2004</th>\n",
       "    </tr>\n",
       "  </thead>\n",
       "  <tbody>\n",
       "    <tr>\n",
       "      <td>0</td>\n",
       "      <td>Emily</td>\n",
       "      <td>F</td>\n",
       "      <td>25151</td>\n",
       "      <td>25037.0</td>\n",
       "    </tr>\n",
       "    <tr>\n",
       "      <td>1</td>\n",
       "      <td>Jessica</td>\n",
       "      <td>F</td>\n",
       "      <td>24198</td>\n",
       "      <td>9470.0</td>\n",
       "    </tr>\n",
       "    <tr>\n",
       "      <td>2</td>\n",
       "      <td>Ashley</td>\n",
       "      <td>F</td>\n",
       "      <td>23677</td>\n",
       "      <td>14373.0</td>\n",
       "    </tr>\n",
       "    <tr>\n",
       "      <td>3</td>\n",
       "      <td>Sarah</td>\n",
       "      <td>F</td>\n",
       "      <td>21040</td>\n",
       "      <td>12737.0</td>\n",
       "    </tr>\n",
       "    <tr>\n",
       "      <td>4</td>\n",
       "      <td>Samantha</td>\n",
       "      <td>F</td>\n",
       "      <td>20548</td>\n",
       "      <td>13783.0</td>\n",
       "    </tr>\n",
       "  </tbody>\n",
       "</table>\n",
       "</div>"
      ],
      "text/plain": [
       "       Name Sex  Count1996  Count2004\n",
       "0     Emily   F      25151    25037.0\n",
       "1   Jessica   F      24198     9470.0\n",
       "2    Ashley   F      23677    14373.0\n",
       "3     Sarah   F      21040    12737.0\n",
       "4  Samantha   F      20548    13783.0"
      ]
     },
     "execution_count": 24,
     "metadata": {},
     "output_type": "execute_result"
    }
   ],
   "source": [
    "# left join\n",
    "names_left = names1996.merge(names2004, on=[\"Name\", \"Sex\"], how=\"left\", suffixes=(\"1996\", \"2004\"))\n",
    "names_left.head()"
   ]
  },
  {
   "cell_type": "markdown",
   "metadata": {},
   "source": [
    "The result of a left join has `NaN`s in the column from the right `DataFrame`."
   ]
  },
  {
   "cell_type": "code",
   "execution_count": 25,
   "metadata": {},
   "outputs": [
    {
     "data": {
      "text/plain": [
       "Name            0\n",
       "Sex             0\n",
       "Count1996       0\n",
       "Count2004    6363\n",
       "dtype: int64"
      ]
     },
     "execution_count": 25,
     "metadata": {},
     "output_type": "execute_result"
    }
   ],
   "source": [
    "names_left.isnull().sum()"
   ]
  },
  {
   "cell_type": "markdown",
   "metadata": {},
   "source": [
    "The result of a right join, on the other hand, has `NaN`s in the column from the left `DataFrame`."
   ]
  },
  {
   "cell_type": "code",
   "execution_count": 26,
   "metadata": {},
   "outputs": [
    {
     "data": {
      "text/html": [
       "<div>\n",
       "<style scoped>\n",
       "    .dataframe tbody tr th:only-of-type {\n",
       "        vertical-align: middle;\n",
       "    }\n",
       "\n",
       "    .dataframe tbody tr th {\n",
       "        vertical-align: top;\n",
       "    }\n",
       "\n",
       "    .dataframe thead th {\n",
       "        text-align: right;\n",
       "    }\n",
       "</style>\n",
       "<table border=\"1\" class=\"dataframe\">\n",
       "  <thead>\n",
       "    <tr style=\"text-align: right;\">\n",
       "      <th></th>\n",
       "      <th>Name</th>\n",
       "      <th>Sex</th>\n",
       "      <th>Count1996</th>\n",
       "      <th>Count2004</th>\n",
       "    </tr>\n",
       "  </thead>\n",
       "  <tbody>\n",
       "    <tr>\n",
       "      <td>0</td>\n",
       "      <td>Emily</td>\n",
       "      <td>F</td>\n",
       "      <td>25151.0</td>\n",
       "      <td>25037</td>\n",
       "    </tr>\n",
       "    <tr>\n",
       "      <td>1</td>\n",
       "      <td>Jessica</td>\n",
       "      <td>F</td>\n",
       "      <td>24198.0</td>\n",
       "      <td>9470</td>\n",
       "    </tr>\n",
       "    <tr>\n",
       "      <td>2</td>\n",
       "      <td>Ashley</td>\n",
       "      <td>F</td>\n",
       "      <td>23677.0</td>\n",
       "      <td>14373</td>\n",
       "    </tr>\n",
       "    <tr>\n",
       "      <td>3</td>\n",
       "      <td>Sarah</td>\n",
       "      <td>F</td>\n",
       "      <td>21040.0</td>\n",
       "      <td>12737</td>\n",
       "    </tr>\n",
       "    <tr>\n",
       "      <td>4</td>\n",
       "      <td>Samantha</td>\n",
       "      <td>F</td>\n",
       "      <td>20548.0</td>\n",
       "      <td>13783</td>\n",
       "    </tr>\n",
       "  </tbody>\n",
       "</table>\n",
       "</div>"
      ],
      "text/plain": [
       "       Name Sex  Count1996  Count2004\n",
       "0     Emily   F    25151.0      25037\n",
       "1   Jessica   F    24198.0       9470\n",
       "2    Ashley   F    23677.0      14373\n",
       "3     Sarah   F    21040.0      12737\n",
       "4  Samantha   F    20548.0      13783"
      ]
     },
     "execution_count": 26,
     "metadata": {},
     "output_type": "execute_result"
    }
   ],
   "source": [
    "# right join\n",
    "names_right = names1996.merge(names2004, on=[\"Name\", \"Sex\"], how=\"right\", suffixes=(\"1996\", \"2004\"))\n",
    "names_right.head()"
   ]
  },
  {
   "cell_type": "code",
   "execution_count": 27,
   "metadata": {},
   "outputs": [
    {
     "data": {
      "text/plain": [
       "Name             0\n",
       "Sex              0\n",
       "Count1996    11988\n",
       "Count2004        0\n",
       "dtype: int64"
      ]
     },
     "execution_count": 27,
     "metadata": {},
     "output_type": "execute_result"
    }
   ],
   "source": [
    "names_right.isnull().sum()"
   ]
  },
  {
   "cell_type": "markdown",
   "metadata": {},
   "source": [
    "One way to visualize the different types of joins is using Venn diagrams. The shaded circles specify which values are included in the output.\n",
    "\n",
    "![](./images/joins.jpeg)"
   ]
  },
  {
   "cell_type": "markdown",
   "metadata": {},
   "source": [
    "# Exercises"
   ]
  },
  {
   "cell_type": "markdown",
   "metadata": {},
   "source": [
    "**Exercise 1.** Make a line plot showing the popularity of your name over the years.  Make sure you include all the years in the dataset!  You'll need to write some code to make sure you open **all** the year datafiles.\n",
    "\n",
    "(**Optional Extra Credit (2 points)**: As an added challenge, try marking the year you were born with a graphic element.)\n",
    "\n",
    "(If you have a rare name that does not appear in the data set, choose a friend's name.)"
   ]
  },
  {
   "cell_type": "code",
   "execution_count": 106,
   "metadata": {},
   "outputs": [
    {
     "data": {
      "text/plain": [
       "<matplotlib.axes._subplots.AxesSubplot at 0x7f0fd014d278>"
      ]
     },
     "execution_count": 106,
     "metadata": {},
     "output_type": "execute_result"
    },
    {
     "data": {
      "image/png": "[encoded data removed]",
      "text/plain": [
       "<Figure size 432x288 with 1 Axes>"
      ]
     },
     "metadata": {
      "needs_background": "light"
     },
     "output_type": "display_data"
    }
   ],
   "source": [
    "# TYPE YOUR CODE HERE\n",
    "#loop to create data frames from datasets.\n",
    "i = 1880\n",
    "mylist = []\n",
    "\n",
    "while (i <= 2018):\n",
    "    dfname = 'names' + str(i)\n",
    "    \n",
    "    #create a drataframe with the above string as its name.\n",
    "    exec(\n",
    "        \"%s = %s\" %\n",
    "        (dfname, 'pd.read_csv(\"./data/names/yob' + str(i) + '.txt\",header=None,names=[\"Name\", \"Sex\", \"Count\"])')\n",
    "    )\n",
    "    \n",
    "    #add the year and count to a list of lists\n",
    "    exec(\n",
    "        'mylist.append([%d ,int(%s[(%s[\"Name\"] == \"Garrett\") & (%s[\"Sex\"] == \"M\")][\"Count\"]) ])' %\n",
    "        (i, dfname, dfname, dfname)\n",
    "    )\n",
    "    \n",
    "    \n",
    "    \n",
    "    i = i + 1\n",
    "\n",
    "\n",
    "#turn myList into a DataFrame\n",
    "frame = pd.DataFrame(mylist, columns = [\"Year\",\"Count\"])\n",
    "\n",
    "frame.set_index(\"Year\").plot.line()"
   ]
  },
  {
   "cell_type": "markdown",
   "metadata": {},
   "source": [
    "Exercises 2-4 deal with the [Movielens data 1M Dataset](https://grouplens.org/datasets/movielens/1m/) which has been copied into the Github for this class.  This dataset is a collection of movie ratings submitted by users. The information about the movies, ratings, and users are stored in three separate files, called `movies.dat`, `ratings.dat`, and `users.dat`. The column names are not included with the data files. Refer to the data documentation (`./data/movielens/README`) for the column names and how the columns correspond across the data sets.\n",
    "\n",
    "For the first part of this excersize you need to open these datafiles, make sure the column headders are correct, and merge them into a single DataFrame to answer the questions.  Take note of the seperators in the data and maybe look at the documentation for [Pandas read_csv()](https://pandas.pydata.org/pandas-docs/stable/reference/api/pandas.read_csv.html) for some hits."
   ]
  },
  {
   "cell_type": "markdown",
   "metadata": {},
   "source": [
    "**Exercise 2.** Who's more generous with ratings: males or females? Calculate the average of the ratings given by male users, and the average of the ratings given by female users."
   ]
  },
  {
   "cell_type": "code",
   "execution_count": 2,
   "metadata": {},
   "outputs": [
    {
     "data": {
      "text/plain": [
       "Gender\n",
       "F    3.729465\n",
       "M    3.692145\n",
       "Name: Rating, dtype: float64"
      ]
     },
     "execution_count": 2,
     "metadata": {},
     "output_type": "execute_result"
    }
   ],
   "source": [
    "# TYPE YOUR CODE HERE\n",
    "# Note: I editted my .dat files in order to read them in as csvs\n",
    "df_movies = pd.read_csv(\"./data/movielens/movies.dat\", encoding=\"latin-1\", names=[\"MovieID\",\"Title\",\"Genres\"])\n",
    "df_ratings = pd.read_csv(\"./data/movielens/ratings.dat\", encoding=\"latin-1\", names=[\"UserID\",\"MovieID\",\"Rating\",\"Timestamp\"])\n",
    "df_users = pd.read_csv(\"./data/movielens/users.dat\", encoding=\"latin-1\", names=[\"UserID\",\"Gender\",\"Age\",\"Occupation\",\"Zip-code\"])\n",
    "\n",
    "Average_ratings = df_ratings.merge(df_users, on=[\"UserID\"], how=\"outer\").groupby([\"UserID\",\"Gender\"])[\"Rating\"].mean()\n",
    "Average_ratings.groupby(\"Gender\").mean()\n",
    "\n",
    "#Females give more generous ratings than males. The average rating given by Females is 3.729465\n",
    "\n"
   ]
  },
  {
   "cell_type": "markdown",
   "metadata": {},
   "source": [
    "**Exercise 3.** Calculate the number of ratings for each of the movies. How many of the movies had zero ratings?\n",
    "\n",
    "(_Hint_: You may need to use operations on the ratings table first.)\n",
    "\n",
    "(_Hint_: Why is an inner join not sufficient here?)"
   ]
  },
  {
   "cell_type": "code",
   "execution_count": 3,
   "metadata": {},
   "outputs": [
    {
     "data": {
      "text/plain": [
       "177"
      ]
     },
     "execution_count": 3,
     "metadata": {},
     "output_type": "execute_result"
    }
   ],
   "source": [
    "# TYPE YOUR CODE HERE\n",
    "Movies_with_ratings = df_movies.merge(df_ratings, on=\"MovieID\", how=\"outer\")\n",
    "\n",
    "rating_counts = Movies_with_ratings.groupby(\"MovieID\").count()\n",
    "\n",
    "Movies_with_ratings = Movies_with_ratings.merge(rating_counts[\"Rating\"], on=\"MovieID\", how=\"outer\", suffixes=[\"_score\",\"_count\"])\n",
    "\n",
    "Movies_with_ratings[Movies_with_ratings[\"Rating_count\"] == 0][\"Rating_count\"].count()\n",
    "\n",
    "\n",
    "#177 Movies have no ratings"
   ]
  },
  {
   "cell_type": "markdown",
   "metadata": {},
   "source": [
    "**Exercise 4.** How many movies received both a 1 and a 5 rating? Do this by creating and joining two appropriate tables.\n",
    "\n",
    "(*Hint:* The [Pandas unique()](https://pandas.pydata.org/pandas-docs/stable/reference/api/pandas.unique.html) function may be nice here...)"
   ]
  },
  {
   "cell_type": "code",
   "execution_count": 7,
   "metadata": {},
   "outputs": [
    {
     "data": {
      "text/plain": [
       "MovieID\n",
       "1       13120\n",
       "2        2016\n",
       "3        1892\n",
       "4         126\n",
       "5         448\n",
       "        ...  \n",
       "3948     5705\n",
       "3949     1188\n",
       "3950       24\n",
       "3951       14\n",
       "3952      747\n",
       "Name: MovieID, Length: 2986, dtype: int64"
      ]
     },
     "execution_count": 7,
     "metadata": {},
     "output_type": "execute_result"
    }
   ],
   "source": [
    "# TYPE YOUR CODE HERE\n",
    "\n",
    "Movies_rated_1 = Movies_with_ratings[(Movies_with_ratings[\"Rating_score\"] == 1)]\n",
    "Movies_rated_5 = Movies_with_ratings[(Movies_with_ratings[\"Rating_score\"] == 5)]\n",
    "                                    \n",
    "\n",
    "Movies_rated_1_and_5 = Movies_rated_1.merge(Movies_rated_5, how=\"inner\", on=\"MovieID\")\n",
    "Movies_rated_1_and_5.groupby(\"MovieID\")[\"MovieID\"].count()\n",
    "\n",
    "#2986 Movies have been rated both 1 and 5\n"
   ]
  },
  {
   "cell_type": "markdown",
   "metadata": {},
   "source": [
    "**Exercise 5.** Among movies with at least 100 ratings, which movie had the highest average rating? \n",
    "\n",
    "(**Hint:** Try filtering the dataframe before using other commands.)"
   ]
  },
  {
   "cell_type": "code",
   "execution_count": 26,
   "metadata": {},
   "outputs": [
    {
     "data": {
      "text/html": [
       "<div>\n",
       "<style scoped>\n",
       "    .dataframe tbody tr th:only-of-type {\n",
       "        vertical-align: middle;\n",
       "    }\n",
       "\n",
       "    .dataframe tbody tr th {\n",
       "        vertical-align: top;\n",
       "    }\n",
       "\n",
       "    .dataframe thead th {\n",
       "        text-align: right;\n",
       "    }\n",
       "</style>\n",
       "<table border=\"1\" class=\"dataframe\">\n",
       "  <thead>\n",
       "    <tr style=\"text-align: right;\">\n",
       "      <th></th>\n",
       "      <th>MovieID</th>\n",
       "      <th>Title</th>\n",
       "      <th>Genres</th>\n",
       "      <th>UserID</th>\n",
       "      <th>Rating_score</th>\n",
       "      <th>Timestamp</th>\n",
       "      <th>Rating_count</th>\n",
       "    </tr>\n",
       "  </thead>\n",
       "  <tbody>\n",
       "    <tr>\n",
       "      <td>551163</td>\n",
       "      <td>2019</td>\n",
       "      <td>Seven Samurai (The Magnificent Seven) (Shichin...</td>\n",
       "      <td>Action|Drama</td>\n",
       "      <td>18.0</td>\n",
       "      <td>5.0</td>\n",
       "      <td>978152973.0</td>\n",
       "      <td>628</td>\n",
       "    </tr>\n",
       "    <tr>\n",
       "      <td>551164</td>\n",
       "      <td>2019</td>\n",
       "      <td>Seven Samurai (The Magnificent Seven) (Shichin...</td>\n",
       "      <td>Action|Drama</td>\n",
       "      <td>35.0</td>\n",
       "      <td>5.0</td>\n",
       "      <td>978101533.0</td>\n",
       "      <td>628</td>\n",
       "    </tr>\n",
       "    <tr>\n",
       "      <td>551165</td>\n",
       "      <td>2019</td>\n",
       "      <td>Seven Samurai (The Magnificent Seven) (Shichin...</td>\n",
       "      <td>Action|Drama</td>\n",
       "      <td>53.0</td>\n",
       "      <td>5.0</td>\n",
       "      <td>977982037.0</td>\n",
       "      <td>628</td>\n",
       "    </tr>\n",
       "    <tr>\n",
       "      <td>551166</td>\n",
       "      <td>2019</td>\n",
       "      <td>Seven Samurai (The Magnificent Seven) (Shichin...</td>\n",
       "      <td>Action|Drama</td>\n",
       "      <td>58.0</td>\n",
       "      <td>4.0</td>\n",
       "      <td>977934987.0</td>\n",
       "      <td>628</td>\n",
       "    </tr>\n",
       "    <tr>\n",
       "      <td>551167</td>\n",
       "      <td>2019</td>\n",
       "      <td>Seven Samurai (The Magnificent Seven) (Shichin...</td>\n",
       "      <td>Action|Drama</td>\n",
       "      <td>59.0</td>\n",
       "      <td>5.0</td>\n",
       "      <td>977933975.0</td>\n",
       "      <td>628</td>\n",
       "    </tr>\n",
       "    <tr>\n",
       "      <td>...</td>\n",
       "      <td>...</td>\n",
       "      <td>...</td>\n",
       "      <td>...</td>\n",
       "      <td>...</td>\n",
       "      <td>...</td>\n",
       "      <td>...</td>\n",
       "      <td>...</td>\n",
       "    </tr>\n",
       "    <tr>\n",
       "      <td>551786</td>\n",
       "      <td>2019</td>\n",
       "      <td>Seven Samurai (The Magnificent Seven) (Shichin...</td>\n",
       "      <td>Action|Drama</td>\n",
       "      <td>6016.0</td>\n",
       "      <td>4.0</td>\n",
       "      <td>956777057.0</td>\n",
       "      <td>628</td>\n",
       "    </tr>\n",
       "    <tr>\n",
       "      <td>551787</td>\n",
       "      <td>2019</td>\n",
       "      <td>Seven Samurai (The Magnificent Seven) (Shichin...</td>\n",
       "      <td>Action|Drama</td>\n",
       "      <td>6020.0</td>\n",
       "      <td>5.0</td>\n",
       "      <td>956757865.0</td>\n",
       "      <td>628</td>\n",
       "    </tr>\n",
       "    <tr>\n",
       "      <td>551788</td>\n",
       "      <td>2019</td>\n",
       "      <td>Seven Samurai (The Magnificent Seven) (Shichin...</td>\n",
       "      <td>Action|Drama</td>\n",
       "      <td>6036.0</td>\n",
       "      <td>5.0</td>\n",
       "      <td>956710703.0</td>\n",
       "      <td>628</td>\n",
       "    </tr>\n",
       "    <tr>\n",
       "      <td>551789</td>\n",
       "      <td>2019</td>\n",
       "      <td>Seven Samurai (The Magnificent Seven) (Shichin...</td>\n",
       "      <td>Action|Drama</td>\n",
       "      <td>6039.0</td>\n",
       "      <td>4.0</td>\n",
       "      <td>956706538.0</td>\n",
       "      <td>628</td>\n",
       "    </tr>\n",
       "    <tr>\n",
       "      <td>551790</td>\n",
       "      <td>2019</td>\n",
       "      <td>Seven Samurai (The Magnificent Seven) (Shichin...</td>\n",
       "      <td>Action|Drama</td>\n",
       "      <td>6040.0</td>\n",
       "      <td>5.0</td>\n",
       "      <td>956703977.0</td>\n",
       "      <td>628</td>\n",
       "    </tr>\n",
       "  </tbody>\n",
       "</table>\n",
       "<p>628 rows × 7 columns</p>\n",
       "</div>"
      ],
      "text/plain": [
       "        MovieID                                              Title        Genres  UserID  Rating_score    Timestamp  Rating_count\n",
       "551163     2019  Seven Samurai (The Magnificent Seven) (Shichin...  Action|Drama    18.0           5.0  978152973.0           628\n",
       "551164     2019  Seven Samurai (The Magnificent Seven) (Shichin...  Action|Drama    35.0           5.0  978101533.0           628\n",
       "551165     2019  Seven Samurai (The Magnificent Seven) (Shichin...  Action|Drama    53.0           5.0  977982037.0           628\n",
       "551166     2019  Seven Samurai (The Magnificent Seven) (Shichin...  Action|Drama    58.0           4.0  977934987.0           628\n",
       "551167     2019  Seven Samurai (The Magnificent Seven) (Shichin...  Action|Drama    59.0           5.0  977933975.0           628\n",
       "...         ...                                                ...           ...     ...           ...          ...           ...\n",
       "551786     2019  Seven Samurai (The Magnificent Seven) (Shichin...  Action|Drama  6016.0           4.0  956777057.0           628\n",
       "551787     2019  Seven Samurai (The Magnificent Seven) (Shichin...  Action|Drama  6020.0           5.0  956757865.0           628\n",
       "551788     2019  Seven Samurai (The Magnificent Seven) (Shichin...  Action|Drama  6036.0           5.0  956710703.0           628\n",
       "551789     2019  Seven Samurai (The Magnificent Seven) (Shichin...  Action|Drama  6039.0           4.0  956706538.0           628\n",
       "551790     2019  Seven Samurai (The Magnificent Seven) (Shichin...  Action|Drama  6040.0           5.0  956703977.0           628\n",
       "\n",
       "[628 rows x 7 columns]"
      ]
     },
     "execution_count": 26,
     "metadata": {},
     "output_type": "execute_result"
    }
   ],
   "source": [
    "# TYPE YOUR CODE HERE\n",
    "over_100_ratings = Movies_with_ratings[(Movies_with_ratings[\"Rating_count\"] >= 100)]\n",
    "over_100_avg = over_100_ratings.groupby(\"MovieID\")[\"Rating_score\"].mean()\n",
    "\n",
    "#over_100_avg.max()\n",
    "over_100_ratings[over_100_ratings[\"MovieID\"] == over_100_avg.idxmax()]\n",
    "\n",
    "#Seven Samurai has the highest average rating.\n",
    "#MovieID is 2019\n",
    "#Average rating is 4.56"
   ]
  },
  {
   "cell_type": "markdown",
   "metadata": {},
   "source": [
    "**BONUS BONUS 8 POINTS.** For each movie, calculate the average age of the users who rated it and the average rating. Make a scatterplot showing the relationship between age and rating, with each point representing a movie. Use the size of each point to represent the number of users who rated the movie."
   ]
  },
  {
   "cell_type": "code",
   "execution_count": null,
   "metadata": {},
   "outputs": [],
   "source": [
    "# TYPE YOUR CODE HERE"
   ]
  },
  {
   "cell_type": "markdown",
   "metadata": {},
   "source": [
    "### When you have filled out all the questions, submit via [Tulane Canvas](https://tulane.instructure.com/)"
   ]
  },
  {
   "cell_type": "code",
   "execution_count": null,
   "metadata": {},
   "outputs": [],
   "source": []
  }
 ],
 "metadata": {
  "kernelspec": {
   "display_name": "Python 3",
   "language": "python",
   "name": "python3"
  },
  "language_info": {
   "codemirror_mode": {
    "name": "ipython",
    "version": 3
   },
   "file_extension": ".py",
   "mimetype": "text/x-python",
   "name": "python",
   "nbconvert_exporter": "python",
   "pygments_lexer": "ipython3",
   "version": "3.7.3"
  }
 },
 "nbformat": 4,
 "nbformat_minor": 2
}
