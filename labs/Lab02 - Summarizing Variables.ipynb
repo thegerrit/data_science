{
 "cells": [
  {
   "cell_type": "markdown",
   "metadata": {},
   "source": [
    "This lab is presented with slight revisions from [Dennis Sun at Cal Poly](https://web.calpoly.edu/~dsun09/index.html) and his [Data301 Course](http://users.csc.calpoly.edu/~dsun09/data301/lectures.html)\n",
    "\n",
    "### Note that you should save when you are done, you will submit this file via Canvas as Lab02."
   ]
  },
  {
   "cell_type": "markdown",
   "metadata": {},
   "source": [
    "# 1.2 Summarizing Variables\n",
    "\n",
    "In the previous section, we emphasized the difference between quantitative and categorical variables. The distinction is not merely pedantic; `pandas` will actually behave differently depending on whether it thinks a variable is quantitative or categorical.\n",
    "\n",
    "It is not easy for a human to make sense of _all_ the values of a variable. In this section, we focus on ways to reduce the values to just a handful of summary statistics. Our working example will again be the Titanic data set, which contains both quantitative and categorical variables."
   ]
  },
  {
   "cell_type": "code",
   "execution_count": 1,
   "metadata": {},
   "outputs": [
    {
     "data": {
      "text/html": [
       "<div>\n",
       "<style scoped>\n",
       "    .dataframe tbody tr th:only-of-type {\n",
       "        vertical-align: middle;\n",
       "    }\n",
       "\n",
       "    .dataframe tbody tr th {\n",
       "        vertical-align: top;\n",
       "    }\n",
       "\n",
       "    .dataframe thead th {\n",
       "        text-align: right;\n",
       "    }\n",
       "</style>\n",
       "<table border=\"1\" class=\"dataframe\">\n",
       "  <thead>\n",
       "    <tr style=\"text-align: right;\">\n",
       "      <th></th>\n",
       "      <th>pclass</th>\n",
       "      <th>survived</th>\n",
       "      <th>name</th>\n",
       "      <th>sex</th>\n",
       "      <th>age</th>\n",
       "      <th>sibsp</th>\n",
       "      <th>parch</th>\n",
       "      <th>ticket</th>\n",
       "      <th>fare</th>\n",
       "      <th>cabin</th>\n",
       "      <th>embarked</th>\n",
       "      <th>boat</th>\n",
       "      <th>body</th>\n",
       "      <th>home.dest</th>\n",
       "    </tr>\n",
       "  </thead>\n",
       "  <tbody>\n",
       "    <tr>\n",
       "      <th>0</th>\n",
       "      <td>1</td>\n",
       "      <td>1</td>\n",
       "      <td>Allen, Miss. Elisabeth Walton</td>\n",
       "      <td>female</td>\n",
       "      <td>29.0000</td>\n",
       "      <td>0</td>\n",
       "      <td>0</td>\n",
       "      <td>24160</td>\n",
       "      <td>211.3375</td>\n",
       "      <td>B5</td>\n",
       "      <td>S</td>\n",
       "      <td>2</td>\n",
       "      <td>NaN</td>\n",
       "      <td>St Louis, MO</td>\n",
       "    </tr>\n",
       "    <tr>\n",
       "      <th>1</th>\n",
       "      <td>1</td>\n",
       "      <td>1</td>\n",
       "      <td>Allison, Master. Hudson Trevor</td>\n",
       "      <td>male</td>\n",
       "      <td>0.9167</td>\n",
       "      <td>1</td>\n",
       "      <td>2</td>\n",
       "      <td>113781</td>\n",
       "      <td>151.5500</td>\n",
       "      <td>C22 C26</td>\n",
       "      <td>S</td>\n",
       "      <td>11</td>\n",
       "      <td>NaN</td>\n",
       "      <td>Montreal, PQ / Chesterville, ON</td>\n",
       "    </tr>\n",
       "    <tr>\n",
       "      <th>2</th>\n",
       "      <td>1</td>\n",
       "      <td>0</td>\n",
       "      <td>Allison, Miss. Helen Loraine</td>\n",
       "      <td>female</td>\n",
       "      <td>2.0000</td>\n",
       "      <td>1</td>\n",
       "      <td>2</td>\n",
       "      <td>113781</td>\n",
       "      <td>151.5500</td>\n",
       "      <td>C22 C26</td>\n",
       "      <td>S</td>\n",
       "      <td>NaN</td>\n",
       "      <td>NaN</td>\n",
       "      <td>Montreal, PQ / Chesterville, ON</td>\n",
       "    </tr>\n",
       "    <tr>\n",
       "      <th>3</th>\n",
       "      <td>1</td>\n",
       "      <td>0</td>\n",
       "      <td>Allison, Mr. Hudson Joshua Creighton</td>\n",
       "      <td>male</td>\n",
       "      <td>30.0000</td>\n",
       "      <td>1</td>\n",
       "      <td>2</td>\n",
       "      <td>113781</td>\n",
       "      <td>151.5500</td>\n",
       "      <td>C22 C26</td>\n",
       "      <td>S</td>\n",
       "      <td>NaN</td>\n",
       "      <td>135.0</td>\n",
       "      <td>Montreal, PQ / Chesterville, ON</td>\n",
       "    </tr>\n",
       "    <tr>\n",
       "      <th>4</th>\n",
       "      <td>1</td>\n",
       "      <td>0</td>\n",
       "      <td>Allison, Mrs. Hudson J C (Bessie Waldo Daniels)</td>\n",
       "      <td>female</td>\n",
       "      <td>25.0000</td>\n",
       "      <td>1</td>\n",
       "      <td>2</td>\n",
       "      <td>113781</td>\n",
       "      <td>151.5500</td>\n",
       "      <td>C22 C26</td>\n",
       "      <td>S</td>\n",
       "      <td>NaN</td>\n",
       "      <td>NaN</td>\n",
       "      <td>Montreal, PQ / Chesterville, ON</td>\n",
       "    </tr>\n",
       "  </tbody>\n",
       "</table>\n",
       "</div>"
      ],
      "text/plain": [
       "   pclass  survived                                             name     sex  \\\n",
       "0       1         1                    Allen, Miss. Elisabeth Walton  female   \n",
       "1       1         1                   Allison, Master. Hudson Trevor    male   \n",
       "2       1         0                     Allison, Miss. Helen Loraine  female   \n",
       "3       1         0             Allison, Mr. Hudson Joshua Creighton    male   \n",
       "4       1         0  Allison, Mrs. Hudson J C (Bessie Waldo Daniels)  female   \n",
       "\n",
       "       age  sibsp  parch  ticket      fare    cabin embarked boat   body  \\\n",
       "0  29.0000      0      0   24160  211.3375       B5        S    2    NaN   \n",
       "1   0.9167      1      2  113781  151.5500  C22 C26        S   11    NaN   \n",
       "2   2.0000      1      2  113781  151.5500  C22 C26        S  NaN    NaN   \n",
       "3  30.0000      1      2  113781  151.5500  C22 C26        S  NaN  135.0   \n",
       "4  25.0000      1      2  113781  151.5500  C22 C26        S  NaN    NaN   \n",
       "\n",
       "                         home.dest  \n",
       "0                     St Louis, MO  \n",
       "1  Montreal, PQ / Chesterville, ON  \n",
       "2  Montreal, PQ / Chesterville, ON  \n",
       "3  Montreal, PQ / Chesterville, ON  \n",
       "4  Montreal, PQ / Chesterville, ON  "
      ]
     },
     "execution_count": 1,
     "metadata": {},
     "output_type": "execute_result"
    }
   ],
   "source": [
    "import pandas as pd\n",
    "pd.options.display.max_rows = 8\n",
    "\n",
    "df = pd.read_csv(\"./data/titanic.csv\")\n",
    "df.head()"
   ]
  },
  {
   "cell_type": "markdown",
   "metadata": {},
   "source": [
    "To get a quick summary of a variable, we can use the `.describe()` function. Let's see what happens when we call `.describe()` on a quantitative variable, like `age`."
   ]
  },
  {
   "cell_type": "code",
   "execution_count": 2,
   "metadata": {},
   "outputs": [
    {
     "data": {
      "text/plain": [
       "count    1046.000000\n",
       "mean       29.881135\n",
       "std        14.413500\n",
       "min         0.166700\n",
       "25%        21.000000\n",
       "50%        28.000000\n",
       "75%        39.000000\n",
       "max        80.000000\n",
       "Name: age, dtype: float64"
      ]
     },
     "execution_count": 2,
     "metadata": {},
     "output_type": "execute_result"
    }
   ],
   "source": [
    "df.age.describe()"
   ]
  },
  {
   "cell_type": "markdown",
   "metadata": {},
   "source": [
    "It returns the count (the number of observations with non-missing values), the mean, the standard deviation (`std`), and various percentiles (`min`, `25%`, `50%`, `75%`, `max`).\n",
    "\n",
    "Now, what if we call `.describe()` on a categorical variable, like `embarked`? This is a variable that takes on the values `C`, `Q`, or `S`, depending on whether the passenger embarked at Cherbourg, Queenstown, or Southampton."
   ]
  },
  {
   "cell_type": "code",
   "execution_count": 3,
   "metadata": {},
   "outputs": [
    {
     "data": {
      "text/plain": [
       "count     1307\n",
       "unique       3\n",
       "top          S\n",
       "freq       914\n",
       "Name: embarked, dtype: object"
      ]
     },
     "execution_count": 3,
     "metadata": {},
     "output_type": "execute_result"
    }
   ],
   "source": [
    "df.embarked.describe()"
   ]
  },
  {
   "cell_type": "markdown",
   "metadata": {},
   "source": [
    "The description of this variable is very different. We still get the count (of non-missing values). But instead of the mean and standard deviation (how would you calculate the mean of `Q` and `S`, anyway?), we get the number of unique values (`unique`), the value that appeared most often (`top`), and how often it appeared (`freq`). These are more natural summaries for a categorical variable, which only take on a limited set of values, where the values are often not even numeric."
   ]
  },
  {
   "cell_type": "markdown",
   "metadata": {},
   "source": [
    "The `.describe()` function only provides a handful of the many summary statistics that are available in `pandas`. We extract additional summary statistics below."
   ]
  },
  {
   "cell_type": "markdown",
   "metadata": {},
   "source": [
    "## Summary Statistics for Quantitative Variables\n",
    "\n",
    "What statistics should we use to summarize a quantitative variable? The most salient features of a quantitative variable are its **center** and **spread**.\n",
    "\n",
    "### Measures of Center\n",
    "\n",
    "Some statistics measure the **center** of a variable. Two commonly used measures of the center are:\n",
    "\n",
    "- the **mean** (a.k.a. average): the sum of the values divided by the count\n",
    "- the **median**: the middle value when you sort the values (i.e., a value such that 50% of the values lie below and 50% of the values lie above)\n",
    "\n",
    "A measure of center gives us information about the \"typical\" value of a variable. For example, you might not know whether a typical fare on the Titanic was £1, £10, or £100. But if we calculate the mean:"
   ]
  },
  {
   "cell_type": "code",
   "execution_count": 4,
   "metadata": {},
   "outputs": [
    {
     "data": {
      "text/plain": [
       "33.29547928134572"
      ]
     },
     "execution_count": 4,
     "metadata": {},
     "output_type": "execute_result"
    }
   ],
   "source": [
    "df.fare.mean()"
   ]
  },
  {
   "cell_type": "markdown",
   "metadata": {},
   "source": [
    "we see that a typical fare is around £30.\n",
    "\n",
    "Let's see what the median says about the \"typical\" fare:"
   ]
  },
  {
   "cell_type": "code",
   "execution_count": 5,
   "metadata": {},
   "outputs": [
    {
     "data": {
      "text/plain": [
       "14.4542"
      ]
     },
     "execution_count": 5,
     "metadata": {},
     "output_type": "execute_result"
    }
   ],
   "source": [
    "df.fare.median()"
   ]
  },
  {
   "cell_type": "markdown",
   "metadata": {},
   "source": [
    "The median is quite different from the mean! It says that about 50% of the passengers paid less than £15 and about 50% paid more, so another reasonable value for the \"typical\" fare is £15.\n",
    "\n",
    "The mean was twice the median! What explains this discrepancy? The reason is that the mean is very sensitive to extreme values. To see this, let's look at the highest fare that any passenger paid."
   ]
  },
  {
   "cell_type": "code",
   "execution_count": 6,
   "metadata": {},
   "outputs": [
    {
     "data": {
      "text/plain": [
       "512.3292"
      ]
     },
     "execution_count": 6,
     "metadata": {},
     "output_type": "execute_result"
    }
   ],
   "source": [
    "df.fare.max()"
   ]
  },
  {
   "cell_type": "markdown",
   "metadata": {},
   "source": [
    "The highest fare paid was over £500! Even if most passengers paid less than £15, extreme values like this one will drag the mean upward. On the other hand, since the median is always the middle value, it is not affected by the extreme values, as long as the ordering of the values is not changed.\n",
    "\n",
    "To drive this point home, let's see what would happen to the mean and median if that maximum fare were actually £10,000."
   ]
  },
  {
   "cell_type": "code",
   "execution_count": 7,
   "metadata": {},
   "outputs": [
    {
     "data": {
      "text/plain": [
       "(62.30976307339481, 14.4542)"
      ]
     },
     "execution_count": 7,
     "metadata": {},
     "output_type": "execute_result"
    }
   ],
   "source": [
    "fare_10k = df.fare.replace(df.fare.max(), 10000)\n",
    "fare_10k.mean(), fare_10k.median()"
   ]
  },
  {
   "cell_type": "markdown",
   "metadata": {},
   "source": [
    "Notice how the mean is now over £60, but the median is unchanged."
   ]
  },
  {
   "cell_type": "markdown",
   "metadata": {},
   "source": [
    "Just to satisfy our curiosity, let's learn more about this passenger who paid the maximum fare. To do this, we have to find the row that achieved this maximum value. Fortunately, there is a convenient `pandas` function, `.idxmax()`, that returns the _row index_ of the maximum fare. (A mathematician might call this the [\"arg max\"](https://en.wikipedia.org/wiki/Arg_max).)"
   ]
  },
  {
   "cell_type": "code",
   "execution_count": 8,
   "metadata": {},
   "outputs": [
    {
     "data": {
      "text/plain": [
       "49"
      ]
     },
     "execution_count": 8,
     "metadata": {},
     "output_type": "execute_result"
    }
   ],
   "source": [
    "df.fare.idxmax()"
   ]
  },
  {
   "cell_type": "markdown",
   "metadata": {},
   "source": [
    "Now we can select the row corresponding to this index using `.loc`, as we learned in the previous section."
   ]
  },
  {
   "cell_type": "code",
   "execution_count": 9,
   "metadata": {},
   "outputs": [
    {
     "data": {
      "text/plain": [
       "pclass                                                    1\n",
       "survived                                                  1\n",
       "name                     Cardeza, Mr. Thomas Drake Martinez\n",
       "sex                                                    male\n",
       "                                  ...                      \n",
       "embarked                                                  C\n",
       "boat                                                      3\n",
       "body                                                    NaN\n",
       "home.dest    Austria-Hungary / Germantown, Philadelphia, PA\n",
       "Name: 49, Length: 14, dtype: object"
      ]
     },
     "execution_count": 9,
     "metadata": {},
     "output_type": "execute_result"
    }
   ],
   "source": [
    "df.loc[df.fare.idxmax()]"
   ]
  },
  {
   "cell_type": "markdown",
   "metadata": {},
   "source": [
    "The median is a number below which 50% of the values fall. What if we want to know some other percentile? We can use the `.quantile()` function, which takes a percentile rank (between 0 and 1) as input and returns the corresponding percentile.\n",
    "\n",
    "For example, the 75th percentile is:"
   ]
  },
  {
   "cell_type": "code",
   "execution_count": 10,
   "metadata": {},
   "outputs": [
    {
     "data": {
      "text/plain": [
       "31.275"
      ]
     },
     "execution_count": 10,
     "metadata": {},
     "output_type": "execute_result"
    }
   ],
   "source": [
    "df.fare.quantile(.75)"
   ]
  },
  {
   "cell_type": "markdown",
   "metadata": {},
   "source": [
    "which is pretty close to the mean. So only about 25% of the passengers paid more than the mean! The mean is not a great measure of center when there are extreme values, as in this data set."
   ]
  },
  {
   "cell_type": "markdown",
   "metadata": {},
   "source": [
    "To summarize, we have encountered several `pandas` functions that can be used to summarize a quantitative variable:\n",
    "\n",
    "- `.mean()` calculates the mean or average.\n",
    "- `.median()` calculates the median.\n",
    "- `.quantile(q)` returns a value such that a fraction `q` of the values fall below that value (in other words, the (100q)th percentile).\n",
    "- `.max()` calculates the maximum value.\n",
    "- `.idxmax()` returns the index of the row with the maximum value. If there are multiple rows that achieve this value, then it will only return the index of the first occurrence.\n",
    "\n",
    "The corresponding functions for the _minimum_ value exist as well:\n",
    "\n",
    "- `.min()` calculates the minimum value.\n",
    "- `.idxmin()` returns the index of the row with the minimum value. If there are multiple rows that achieve this value, then it will only return the index of the first occurrence."
   ]
  },
  {
   "cell_type": "code",
   "execution_count": 11,
   "metadata": {},
   "outputs": [
    {
     "data": {
      "text/plain": [
       "0.0"
      ]
     },
     "execution_count": 11,
     "metadata": {},
     "output_type": "execute_result"
    }
   ],
   "source": [
    "df.fare.min()"
   ]
  },
  {
   "cell_type": "markdown",
   "metadata": {},
   "source": [
    "Some passengers boarded the Titanic for free, apparently."
   ]
  },
  {
   "cell_type": "markdown",
   "metadata": {},
   "source": [
    "### Measures of Spread\n",
    "\n",
    "The center of a quantitative variable only tells part of the story. For one, it tells us nothing about how spread out the values are. Therefore, it is important to also report a measure of **spread**.\n",
    "\n",
    "Let's investigate a few measures of spread that are built into `pandas`. For completeness, the formulas for these statistics are provided, where $x_1, ..., x_n$ represent the values and $\\bar x$ their mean.\n",
    "\n",
    "The first statistic that might come to mind is the **mean absolute deviation**, or MAD. To calculate the MAD, you first calculate the difference between each observation and the mean. Values below the mean will have a negative difference, while values above the mean will have a positive difference. We don't want the negative differences to cancel out the positive differences, since _all_ of them contribute to the spread. So we take the absolute value of all the differences and then average.\n",
    "\n",
    "$$\n",
    "\\begin{align*}\n",
    "\\textrm{MAD} &= \\textrm{mean of } |x_i - \\bar x| \\\\\n",
    "&= \\frac{1}{n} \\sum_{i=1}^n |x_i - \\bar x|\n",
    "\\end{align*}\n",
    "$$\n",
    "\n",
    "We can implement the MAD ourselves using the `.mean()` and `.abs()` functions."
   ]
  },
  {
   "cell_type": "code",
   "execution_count": 12,
   "metadata": {},
   "outputs": [
    {
     "data": {
      "text/plain": [
       "0       178.042021\n",
       "1       118.254521\n",
       "2       118.254521\n",
       "3       118.254521\n",
       "           ...    \n",
       "1305    -18.841279\n",
       "1306    -26.070479\n",
       "1307    -26.070479\n",
       "1308    -25.420479\n",
       "Name: fare, Length: 1309, dtype: float64"
      ]
     },
     "execution_count": 12,
     "metadata": {},
     "output_type": "execute_result"
    }
   ],
   "source": [
    "# STEP 1: Calculate the difference between each fare and the mean.\n",
    "(df.fare - df.fare.mean())"
   ]
  },
  {
   "cell_type": "code",
   "execution_count": 13,
   "metadata": {},
   "outputs": [
    {
     "data": {
      "text/plain": [
       "0       178.042021\n",
       "1       118.254521\n",
       "2       118.254521\n",
       "3       118.254521\n",
       "           ...    \n",
       "1305     18.841279\n",
       "1306     26.070479\n",
       "1307     26.070479\n",
       "1308     25.420479\n",
       "Name: fare, Length: 1309, dtype: float64"
      ]
     },
     "execution_count": 13,
     "metadata": {},
     "output_type": "execute_result"
    }
   ],
   "source": [
    "# STEP 2: Calculate the absolute value of each difference.\n",
    "(df.fare - df.fare.mean()).abs()"
   ]
  },
  {
   "cell_type": "code",
   "execution_count": 14,
   "metadata": {},
   "outputs": [
    {
     "data": {
      "text/plain": [
       "29.798712688793827"
      ]
     },
     "execution_count": 14,
     "metadata": {},
     "output_type": "execute_result"
    }
   ],
   "source": [
    "# STEP 3: Take the mean of these absolute differences.\n",
    "(df.fare - df.fare.mean()).abs().mean()"
   ]
  },
  {
   "cell_type": "markdown",
   "metadata": {},
   "source": [
    "Notice that in Step 1, we subtracted a single value (`df.fare.mean()`) from a `pandas` `Series` (`df.fare`). A `Series` is like an array, and in most programming languages, subtracting a number from an array is a type mismatch. But `pandas`  automatically **broadcasted** the subtraction over each number in the `Series`.\n",
    "\n",
    "The `.abs()` function in Step 2 is another example of broadcasting. The absolute value function is applied to each element of the `Series`."
   ]
  },
  {
   "cell_type": "markdown",
   "metadata": {},
   "source": [
    "The MAD is actually built into `pandas`, so there really is no reason to implement it from scratch, as we did above. Let's check that we get the same answer when we call the built-in function."
   ]
  },
  {
   "cell_type": "code",
   "execution_count": 15,
   "metadata": {},
   "outputs": [
    {
     "data": {
      "text/plain": [
       "29.798712688793827"
      ]
     },
     "execution_count": 15,
     "metadata": {},
     "output_type": "execute_result"
    }
   ],
   "source": [
    "df.fare.mad()"
   ]
  },
  {
   "cell_type": "markdown",
   "metadata": {},
   "source": [
    "Since the MAD is a mean of the absolute differences and the mean represents the \"typical\" value, we can interpret the MAD as saying that the \"typical\" fare is about £30 away from the average."
   ]
  },
  {
   "cell_type": "markdown",
   "metadata": {},
   "source": [
    "Another way to ensure that the negative and positive differences don't cancel is to square all the differences before averaging. This leads to the definition of **variance**.\n",
    "\n",
    "$$\\textrm{Variance} = \\textrm{mean of } (x_i - \\bar x)^2$$\n",
    "\n",
    "We can implement the variance ourselves using the .mean() and power (`**`) functions. Again, notice how the subtraction and the power function are broadcast over the elements of the `Series`."
   ]
  },
  {
   "cell_type": "code",
   "execution_count": 16,
   "metadata": {},
   "outputs": [
    {
     "data": {
      "text/plain": [
       "2676.911603536706"
      ]
     },
     "execution_count": 16,
     "metadata": {},
     "output_type": "execute_result"
    }
   ],
   "source": [
    "((df.fare - df.fare.mean()) ** 2).mean()"
   ]
  },
  {
   "cell_type": "markdown",
   "metadata": {},
   "source": [
    "Alternatively, we can simply call the `.var()` function in `pandas`."
   ]
  },
  {
   "cell_type": "code",
   "execution_count": 17,
   "metadata": {},
   "outputs": [
    {
     "data": {
      "text/plain": [
       "2678.9597378928934"
      ]
     },
     "execution_count": 17,
     "metadata": {},
     "output_type": "execute_result"
    }
   ],
   "source": [
    "df.fare.var()"
   ]
  },
  {
   "cell_type": "markdown",
   "metadata": {},
   "source": [
    "You might be surprised that `.var()` produces a slightly different number. This is because `pandas` divides by $n-1$ in calculating the mean of the squared differences, rather than $n$. That is, the formula that `pandas` uses is \n",
    "\n",
    "$$\\text{Variance} = \\frac{1}{n-1} \\sum_{i=1}^n (x_i - \\bar x)^2.$$\n",
    "\n",
    "To force Pandas to divide by $n$, you can set `ddof=0`."
   ]
  },
  {
   "cell_type": "code",
   "execution_count": 18,
   "metadata": {},
   "outputs": [
    {
     "data": {
      "text/plain": [
       "2676.911603536706"
      ]
     },
     "execution_count": 18,
     "metadata": {},
     "output_type": "execute_result"
    }
   ],
   "source": [
    "df.fare.var(ddof=0)"
   ]
  },
  {
   "cell_type": "markdown",
   "metadata": {},
   "source": [
    "Now the value returned by `pandas` matches the value we obtained manually."
   ]
  },
  {
   "cell_type": "markdown",
   "metadata": {},
   "source": [
    "#### Why We Divide By $n-1$ \n",
    "\n",
    "Data is often a sample from some population. The point of calculating the variance of a sample is to be able to say something about the spread of the population.\n",
    "\n",
    "To see why we divide by $n-1$ to measure the spread of a population, consider the extreme case where we have a sample of size $n=1$. What can we say about the spread of the population based on this one observation? Absolutely nothing! We need a sample of size at least $n=2$ to be able to say anything about the _spread_. Therefore, the variance is undefined when $n=1$. In order to make the variance not defined for $n=1$, we divide by $n-1$ so that we have $0/0$ when $n=1$. The variance formula above is only defined when $n \\geq 2$."
   ]
  },
  {
   "cell_type": "markdown",
   "metadata": {},
   "source": [
    "The trouble with variance is that its units are wrong. If the original values $x_1, ..., x_n$ were in pounds, the variance would be in pounds _squared_. This is obvious if you simply look at the magnitude of the variance in the example above; the variance is in the _thousands_, even though the largest fare is just over £500.  To correct the units of variance, we take the square root to obtain a more interpretable measure of spread, called the **standard deviation**:\n",
    "\n",
    "$$\\textrm{SD} = \\sqrt{\\textrm{Variance}}.$$"
   ]
  },
  {
   "cell_type": "code",
   "execution_count": 19,
   "metadata": {},
   "outputs": [
    {
     "data": {
      "text/plain": [
       "51.758668239174135"
      ]
     },
     "execution_count": 19,
     "metadata": {},
     "output_type": "execute_result"
    }
   ],
   "source": [
    "df.fare.std()"
   ]
  },
  {
   "cell_type": "markdown",
   "metadata": {},
   "source": [
    "We can interpret this standard deviation as saying: the \"typical\" fare is about £50 away from the average."
   ]
  },
  {
   "cell_type": "markdown",
   "metadata": {},
   "source": [
    "The standard deviation is the most widely used measure of spread, more common than the MAD. At first, this might seem odd. To calculate the standard deviation, we squared the differences from the mean, only to take a square root in the end. Why bother with this rigamarole, when we could just calculate absolute values instead?\n",
    "\n",
    "The reasons for preferring the standard deviation are complicated. But the short answer is that the variance (which is the square of the standard deviation) is much nicer mathematically. If you know calculus, you might remember that the absolute value function does not have a derivative at 0. Therefore, the MAD is not _differentiable_, which makes it inconvenient mathematically (especially for various machine learning applications). That doesn't necessarily mean that it's any worse as a measure of spread."
   ]
  },
  {
   "cell_type": "markdown",
   "metadata": {},
   "source": [
    "## Summary Statistics for Categorical Variables\n",
    "\n",
    "Although there are many ways to summarize a quantitative variable, there is really only one way to summarize a categorical variable. Since a categorical variable can only take on a limited set of values, we can completely summarize the variable by reporting the frequencies of the different categories. The `pandas` function that produces this summary is `.value_counts()`."
   ]
  },
  {
   "cell_type": "code",
   "execution_count": 20,
   "metadata": {},
   "outputs": [
    {
     "data": {
      "text/plain": [
       "S    914\n",
       "C    270\n",
       "Q    123\n",
       "Name: embarked, dtype: int64"
      ]
     },
     "execution_count": 20,
     "metadata": {},
     "output_type": "execute_result"
    }
   ],
   "source": [
    "embarked_counts = df.embarked.value_counts()\n",
    "embarked_counts"
   ]
  },
  {
   "cell_type": "markdown",
   "metadata": {},
   "source": [
    "Note that the counts are sorted in decreasing order by default, so the first element corresponds to `top` in the summary produced by `.describe()`. Southampton was the most common point of embarkation. \n",
    "\n",
    "Since the counts are stored in a `pandas` `Series` indexed by category, we can extract a particular count using either label-based or position-based selection:"
   ]
  },
  {
   "cell_type": "code",
   "execution_count": 21,
   "metadata": {},
   "outputs": [
    {
     "data": {
      "text/plain": [
       "(270, 270)"
      ]
     },
     "execution_count": 21,
     "metadata": {},
     "output_type": "execute_result"
    }
   ],
   "source": [
    "embarked_counts.loc[\"C\"], embarked_counts.iloc[1]"
   ]
  },
  {
   "cell_type": "markdown",
   "metadata": {},
   "source": [
    "Instead of the _number_ of passengers embarking at each location, we might instead want to know the _percentage_ of passengers. To do this, divide the `Series` by the sum to turn the counts into **proportions**. (The term _proportion_ refers to a percentage when it is expressed as a number between 0 and 1, instead of between 0% and 100%.) Proportions must add up to 1, just as percentages must add up to 100%."
   ]
  },
  {
   "cell_type": "code",
   "execution_count": 22,
   "metadata": {},
   "outputs": [
    {
     "data": {
      "text/plain": [
       "S    0.699311\n",
       "C    0.206580\n",
       "Q    0.094109\n",
       "Name: embarked, dtype: float64"
      ]
     },
     "execution_count": 22,
     "metadata": {},
     "output_type": "execute_result"
    }
   ],
   "source": [
    "embarked_counts / embarked_counts.sum()"
   ]
  },
  {
   "cell_type": "markdown",
   "metadata": {},
   "source": [
    "Notice the use of _broadcasting_ again; `embarked_counts` is a `Series`, but `embarked_counts.sum()` is a number. When a `Series` is divided by a number, the division is automatically applied to each element of the `Series`, producing another `Series`."
   ]
  },
  {
   "cell_type": "markdown",
   "metadata": {},
   "source": [
    "### Binary Categorical Variables\n",
    "\n",
    "A binary categorical variable (i.e., a categorical variable with two categories) can be represented as a quantitative variable by coding one category as 1 and the other as 0.\n",
    "\n",
    "In the Titanic data set, the `survived` variable has been coded this way. Each passenger either survived (1) or didn't (0)."
   ]
  },
  {
   "cell_type": "code",
   "execution_count": 23,
   "metadata": {},
   "outputs": [
    {
     "data": {
      "text/plain": [
       "0       1\n",
       "1       1\n",
       "2       0\n",
       "3       0\n",
       "       ..\n",
       "1305    0\n",
       "1306    0\n",
       "1307    0\n",
       "1308    0\n",
       "Name: survived, Length: 1309, dtype: int64"
      ]
     },
     "execution_count": 23,
     "metadata": {},
     "output_type": "execute_result"
    }
   ],
   "source": [
    "df.survived"
   ]
  },
  {
   "cell_type": "markdown",
   "metadata": {},
   "source": [
    "Although we can use `.value_counts()` to determine how many passengers survived:"
   ]
  },
  {
   "cell_type": "code",
   "execution_count": 24,
   "metadata": {},
   "outputs": [
    {
     "data": {
      "text/plain": [
       "0    809\n",
       "1    500\n",
       "Name: survived, dtype: int64"
      ]
     },
     "execution_count": 24,
     "metadata": {},
     "output_type": "execute_result"
    }
   ],
   "source": [
    "df.survived.value_counts()"
   ]
  },
  {
   "cell_type": "markdown",
   "metadata": {},
   "source": [
    "we can also call `.sum()` and `.mean()` on this variable because the values are numeric.\n",
    "\n",
    "What does `.sum()` do?"
   ]
  },
  {
   "cell_type": "code",
   "execution_count": 25,
   "metadata": {},
   "outputs": [
    {
     "data": {
      "text/plain": [
       "500"
      ]
     },
     "execution_count": 25,
     "metadata": {},
     "output_type": "execute_result"
    }
   ],
   "source": [
    "df.survived.sum()"
   ]
  },
  {
   "cell_type": "markdown",
   "metadata": {},
   "source": [
    "`.sum()` returns the _number_ of ones. To see why, remember that this `Series` only 0s and 1s. Each 1 we encounter increments the sum by one, and each 0 contributes nothing to the sum. So when we add up all the numbers, we end up with the number of ones---or, in this example, the number of survivors.\n",
    "\n",
    "What about `.mean()`?"
   ]
  },
  {
   "cell_type": "code",
   "execution_count": 26,
   "metadata": {},
   "outputs": [
    {
     "data": {
      "text/plain": [
       "0.3819709702062643"
      ]
     },
     "execution_count": 26,
     "metadata": {},
     "output_type": "execute_result"
    }
   ],
   "source": [
    "df.survived.mean()"
   ]
  },
  {
   "cell_type": "markdown",
   "metadata": {},
   "source": [
    "`.mean()` returns the _proportion_ of ones. To see why, remember that the mean is the sum divided by the number of observations. The sum, as we have just discussed, is the number of 1s. Dividing this by the number of observations gives us the proportion of 1s---or, in this example, the proportion of survivors.\n",
    "\n",
    "$$ \\text{mean} = \\frac{\\text{sum}}{n} = \\frac{\\text{number of survivors}}{\\text{number of passengers}} = \\text{proportion of passengers who survived}.$$"
   ]
  },
  {
   "cell_type": "markdown",
   "metadata": {},
   "source": [
    "## Summary Statistics for Other Variables?\n",
    "\n",
    "In the last section, we noted that `name` is not a categorical variable because it does not take on a limited set of values. Hopefully, you now see why it was important to make this distinction. It does not make sense to analyze `name` like we analyzed `embarked` above. For example, if we calculate the frequency of each unique value in `name`, we don't learn much, since names generally do not repeat. "
   ]
  },
  {
   "cell_type": "code",
   "execution_count": 27,
   "metadata": {},
   "outputs": [
    {
     "data": {
      "text/plain": [
       "Connolly, Miss. Kate                                             2\n",
       "Kelly, Mr. James                                                 2\n",
       "Stengel, Mr. Charles Emil Henry                                  1\n",
       "Sdycoff, Mr. Todor                                               1\n",
       "                                                                ..\n",
       "Warren, Mr. Charles William                                      1\n",
       "Carver, Mr. Alfred John                                          1\n",
       "Brown, Mrs. Thomas William Solomon (Elizabeth Catherine Ford)    1\n",
       "Mannion, Miss. Margareth                                         1\n",
       "Name: name, Length: 1307, dtype: int64"
      ]
     },
     "execution_count": 27,
     "metadata": {},
     "output_type": "execute_result"
    }
   ],
   "source": [
    "df.name.value_counts()"
   ]
  },
  {
   "cell_type": "markdown",
   "metadata": {},
   "source": [
    "That is why `name` was classified as an \"other\" variable. \"Other\" variables require additional processing before they can be summarized and analyzed. For example, if we extracted just the surnames from the `name` variable, then it might make sense to analyze this new variable as a categorical variable. The following case study shows how.\n",
    "\n",
    "### Case Study: Extracting the Surname from the Names\n",
    "\n",
    "We can extract the surnames from the names using the [built-in string processing functions](https://pandas.pydata.org/pandas-docs/stable/text.html), all of which are preceded by `.str`. The string processing function that will be most useful to us is `.str.split()`, which allows us to split each string in a `Series` by some sequence of characters.  (In other words, the `split()` function is _broadcast_ over the strings in the `Series`.) Since the surname and other names are separated by `\", \"`, we will split by `\", \"` to obtain two chunks, the first of which is the surname."
   ]
  },
  {
   "cell_type": "code",
   "execution_count": 28,
   "metadata": {},
   "outputs": [
    {
     "data": {
      "text/plain": [
       "0              [Allen, Miss. Elisabeth Walton]\n",
       "1             [Allison, Master. Hudson Trevor]\n",
       "2               [Allison, Miss. Helen Loraine]\n",
       "3       [Allison, Mr. Hudson Joshua Creighton]\n",
       "                         ...                  \n",
       "1305                   [Zabour, Miss. Thamine]\n",
       "1306               [Zakarian, Mr. Mapriededer]\n",
       "1307                     [Zakarian, Mr. Ortin]\n",
       "1308                      [Zimmerman, Mr. Leo]\n",
       "Name: name, Length: 1309, dtype: object"
      ]
     },
     "execution_count": 28,
     "metadata": {},
     "output_type": "execute_result"
    }
   ],
   "source": [
    "df.name.str.split(\", \")"
   ]
  },
  {
   "cell_type": "markdown",
   "metadata": {},
   "source": [
    "We can specify the option `expand=True` to get a `DataFrame` where each chunk is a separate column. The surnames are now in the first column."
   ]
  },
  {
   "cell_type": "code",
   "execution_count": 29,
   "metadata": {},
   "outputs": [
    {
     "data": {
      "text/html": [
       "<div>\n",
       "<style scoped>\n",
       "    .dataframe tbody tr th:only-of-type {\n",
       "        vertical-align: middle;\n",
       "    }\n",
       "\n",
       "    .dataframe tbody tr th {\n",
       "        vertical-align: top;\n",
       "    }\n",
       "\n",
       "    .dataframe thead th {\n",
       "        text-align: right;\n",
       "    }\n",
       "</style>\n",
       "<table border=\"1\" class=\"dataframe\">\n",
       "  <thead>\n",
       "    <tr style=\"text-align: right;\">\n",
       "      <th></th>\n",
       "      <th>0</th>\n",
       "      <th>1</th>\n",
       "    </tr>\n",
       "  </thead>\n",
       "  <tbody>\n",
       "    <tr>\n",
       "      <th>0</th>\n",
       "      <td>Allen</td>\n",
       "      <td>Miss. Elisabeth Walton</td>\n",
       "    </tr>\n",
       "    <tr>\n",
       "      <th>1</th>\n",
       "      <td>Allison</td>\n",
       "      <td>Master. Hudson Trevor</td>\n",
       "    </tr>\n",
       "    <tr>\n",
       "      <th>2</th>\n",
       "      <td>Allison</td>\n",
       "      <td>Miss. Helen Loraine</td>\n",
       "    </tr>\n",
       "    <tr>\n",
       "      <th>3</th>\n",
       "      <td>Allison</td>\n",
       "      <td>Mr. Hudson Joshua Creighton</td>\n",
       "    </tr>\n",
       "    <tr>\n",
       "      <th>...</th>\n",
       "      <td>...</td>\n",
       "      <td>...</td>\n",
       "    </tr>\n",
       "    <tr>\n",
       "      <th>1305</th>\n",
       "      <td>Zabour</td>\n",
       "      <td>Miss. Thamine</td>\n",
       "    </tr>\n",
       "    <tr>\n",
       "      <th>1306</th>\n",
       "      <td>Zakarian</td>\n",
       "      <td>Mr. Mapriededer</td>\n",
       "    </tr>\n",
       "    <tr>\n",
       "      <th>1307</th>\n",
       "      <td>Zakarian</td>\n",
       "      <td>Mr. Ortin</td>\n",
       "    </tr>\n",
       "    <tr>\n",
       "      <th>1308</th>\n",
       "      <td>Zimmerman</td>\n",
       "      <td>Mr. Leo</td>\n",
       "    </tr>\n",
       "  </tbody>\n",
       "</table>\n",
       "<p>1309 rows × 2 columns</p>\n",
       "</div>"
      ],
      "text/plain": [
       "              0                            1\n",
       "0         Allen       Miss. Elisabeth Walton\n",
       "1       Allison        Master. Hudson Trevor\n",
       "2       Allison          Miss. Helen Loraine\n",
       "3       Allison  Mr. Hudson Joshua Creighton\n",
       "...         ...                          ...\n",
       "1305     Zabour                Miss. Thamine\n",
       "1306   Zakarian              Mr. Mapriededer\n",
       "1307   Zakarian                    Mr. Ortin\n",
       "1308  Zimmerman                      Mr. Leo\n",
       "\n",
       "[1309 rows x 2 columns]"
      ]
     },
     "execution_count": 29,
     "metadata": {},
     "output_type": "execute_result"
    }
   ],
   "source": [
    "df.name.str.split(\", \", expand=True)"
   ]
  },
  {
   "cell_type": "markdown",
   "metadata": {},
   "source": [
    "Now we can select the surnames column (the column is named `0` in the `DataFrame`)."
   ]
  },
  {
   "cell_type": "code",
   "execution_count": 30,
   "metadata": {},
   "outputs": [
    {
     "data": {
      "text/plain": [
       "0           Allen\n",
       "1         Allison\n",
       "2         Allison\n",
       "3         Allison\n",
       "          ...    \n",
       "1305       Zabour\n",
       "1306     Zakarian\n",
       "1307     Zakarian\n",
       "1308    Zimmerman\n",
       "Name: 0, Length: 1309, dtype: object"
      ]
     },
     "execution_count": 30,
     "metadata": {},
     "output_type": "execute_result"
    }
   ],
   "source": [
    "surnames = df.name.str.split(\", \", expand=True)[0]\n",
    "surnames"
   ]
  },
  {
   "cell_type": "markdown",
   "metadata": {},
   "source": [
    "Since there are multiple passengers with the same surname, this is a categorical variable. We can use `.value_counts()` to find out which surnames were most common."
   ]
  },
  {
   "cell_type": "code",
   "execution_count": 31,
   "metadata": {},
   "outputs": [
    {
     "data": {
      "text/plain": [
       "Andersson    11\n",
       "Sage         11\n",
       "Asplund       8\n",
       "Goodwin       8\n",
       "             ..\n",
       "Butt          1\n",
       "Maenpaa       1\n",
       "McCrie        1\n",
       "Lingane       1\n",
       "Name: 0, Length: 875, dtype: int64"
      ]
     },
     "execution_count": 31,
     "metadata": {},
     "output_type": "execute_result"
    }
   ],
   "source": [
    "surnames.value_counts()"
   ]
  },
  {
   "cell_type": "markdown",
   "metadata": {},
   "source": [
    "## Summary\n",
    "\n",
    "- Quantitative and categorical variables are summarized differently.\n",
    "- For quantitative variables, we typically report a measure of center (e.g., mean, median, quantiles) and a measure of spread (e.g., variance, standard deviation, MAD).\n",
    "- For categorical variables, we typically report the frequencies of the various categories, either as counts or as proportions.\n",
    "- Other variables require additional processing before they can be analyzed."
   ]
  },
  {
   "cell_type": "markdown",
   "metadata": {},
   "source": [
    "# Exercises\n",
    "\n",
    "All of the following exercises use the Tips data set (`./data/tips.csv`)."
   ]
  },
  {
   "cell_type": "markdown",
   "metadata": {},
   "source": [
    "**Exercise 1.** How many people were in the largest party served by the waiter? The smallest?"
   ]
  },
  {
   "cell_type": "code",
   "execution_count": 41,
   "metadata": {},
   "outputs": [
    {
     "data": {
      "text/plain": [
       "1"
      ]
     },
     "execution_count": 41,
     "metadata": {},
     "output_type": "execute_result"
    }
   ],
   "source": [
    "# YOUR CODE HERE AND ANSWERS HERE (AS COMMENTS)\n",
    "tips = pd.read_csv('./data/tips.csv')\n",
    "\n",
    "tips[\"size\"].max() #6 people were in the largest party\n",
    "\n",
    "tips[\"size\"].min() #1 person in the smallest party"
   ]
  },
  {
   "cell_type": "markdown",
   "metadata": {},
   "source": [
    "**Exercise 2.** How could you use the `.quantile()` function to calculate the median? Check that your method works on an appropriate variable from the Tips data set."
   ]
  },
  {
   "cell_type": "code",
   "execution_count": 42,
   "metadata": {},
   "outputs": [
    {
     "data": {
      "text/plain": [
       "2.0"
      ]
     },
     "execution_count": 42,
     "metadata": {},
     "output_type": "execute_result"
    }
   ],
   "source": [
    "# YOUR CODE HERE AND ANSWERS HERE (AS COMMENTS)\n",
    "tips[\"size\"].quantile(0.5)"
   ]
  },
  {
   "cell_type": "code",
   "execution_count": null,
   "metadata": {},
   "outputs": [],
   "source": [
    "# **Exercise 3.** Another measure of spread is the **interquartile range**, or IQR, defined as:\n",
    "\n",
    "$$ \\textrm{IQR} = \\textrm{75th percentile} - \\textrm{25th percentile}. $$\n",
    "\n",
    "Measure the spread in the total bills by reporting the IQR."
   ]
  },
  {
   "cell_type": "code",
   "execution_count": 46,
   "metadata": {},
   "outputs": [
    {
     "data": {
      "text/plain": [
       "10.779999999999998"
      ]
     },
     "execution_count": 46,
     "metadata": {},
     "output_type": "execute_result"
    }
   ],
   "source": [
    "# YOUR CODE HERE AND ANSWERS HERE (AS COMMENTS)\n",
    "total_bill_IQR = (tips[\"total_bill\"].quantile(0.75) - tips[\"total_bill\"].quantile(0.25))\n",
    "total_bill_IQR"
   ]
  },
  {
   "cell_type": "markdown",
   "metadata": {},
   "source": [
    "**Exercise 4.** Some people use MAD to refer to the **median absolute deviation**. The median absolute deviation is the same as the mean absolute deviation, but it uses the median instead of the mean:\n",
    "\n",
    "$$\\textrm{M(edian)AD} = \\textrm{median of } |x_i - \\textrm{median}|. $$\n",
    "\n",
    "Calculate the median absolute deviation of the total bills. (The median absolute deviation is not built into Pandas, so you will have to implement it from scratch.)"
   ]
  },
  {
   "cell_type": "code",
   "execution_count": 53,
   "metadata": {},
   "outputs": [
    {
     "data": {
      "text/plain": [
       "<bound method Series.median of 0      0.805\n",
       "1      7.455\n",
       "2      3.215\n",
       "3      5.885\n",
       "       ...  \n",
       "240    9.385\n",
       "241    4.875\n",
       "242    0.025\n",
       "243    0.985\n",
       "Name: total_bill, Length: 244, dtype: float64>"
      ]
     },
     "execution_count": 53,
     "metadata": {},
     "output_type": "execute_result"
    }
   ],
   "source": [
    "# YOUR CODE HERE AND ANSWERS HERE (AS COMMENTS)\n",
    "(tips[\"total_bill\"] - tips[\"total_bill\"].median()).abs().median"
   ]
  },
  {
   "cell_type": "markdown",
   "metadata": {},
   "source": [
    "**Exercise 5.** Who pays the bill more often: men or women?"
   ]
  },
  {
   "cell_type": "code",
   "execution_count": 56,
   "metadata": {},
   "outputs": [
    {
     "data": {
      "text/plain": [
       "count      244\n",
       "unique       2\n",
       "top       Male\n",
       "freq       157\n",
       "Name: sex, dtype: object"
      ]
     },
     "execution_count": 56,
     "metadata": {},
     "output_type": "execute_result"
    }
   ],
   "source": [
    "# YOUR CODE HERE AND ANSWERS HERE (AS COMMENTS)\n",
    "tips[\"sex\"].describe()\n",
    "\n",
    "# Men pay the bill more often. Of the 244 data entries, men paid the bill in 157 entries."
   ]
  },
  {
   "cell_type": "code",
   "execution_count": null,
   "metadata": {},
   "outputs": [],
   "source": []
  }
 ],
 "metadata": {
  "kernelspec": {
   "display_name": "Python 3",
   "language": "python",
   "name": "python3"
  },
  "language_info": {
   "codemirror_mode": {
    "name": "ipython",
    "version": 3
   },
   "file_extension": ".py",
   "mimetype": "text/x-python",
   "name": "python",
   "nbconvert_exporter": "python",
   "pygments_lexer": "ipython3",
   "version": "3.7.3"
  }
 },
 "nbformat": 4,
 "nbformat_minor": 2
}
