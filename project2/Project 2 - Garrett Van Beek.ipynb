{
 "cells": [
  {
   "cell_type": "markdown",
   "metadata": {},
   "source": [
    "# Project 2 - Moneyball"
   ]
  },
  {
   "cell_type": "markdown",
   "metadata": {},
   "source": [
    "## The Question\n",
    "\n",
    "We want to understand how efficient teams have been historically at spending money and getting wins in return. In the case of Moneyball, one would expect that Oakland was not much more efficient than other teams in their spending before 2000, were much more efficient (they made a movie about it after all) between 2000 and 2005, and by then other teams may have caught up. Your job in this project is to see how this is reflected in the data we have."
   ]
  },
  {
   "cell_type": "markdown",
   "metadata": {},
   "source": [
    "## Part 1: Wrangling\n",
    "\n",
    "The data you need to answer these questions is in the Salaries and Teams tables of the database.\n",
    "\n",
    "#### Problem 1\n",
    "\n",
    "**Using an SQL query only** compute a relation containing the total payroll and winning percentage (number of wins / number of games * 100) for each team (that is, for each teamID and yearID combination). You should include other columns that will help when performing EDA later on (e.g., franchise ids, number of wins, number of games).\n",
    "\n",
    "**Hint:** Take a good look at the [SQLite Documentation](https://www.sqlitetutorial.net/).\n",
    "\n",
    "Include as a cell the SQL code you used to create this relation. As a markdown cell, describe how you dealt with any missing data in these two relations. Specifically, indicate if there is missing data in either table, and how the type of join you used determines how you dealt with this missing data. \n",
    "\n",
    "**You must display the head of the resulting data table in your notebook.  You should also display the results of one team over the time range to make sure your data is correct.**\n",
    "\n",
    "**Hint:** For SQL you have to be mindful of integer vs. float division.  See the above tutorial on how to deal with this."
   ]
  },
  {
   "cell_type": "code",
   "execution_count": 2,
   "metadata": {},
   "outputs": [],
   "source": [
    "import sqlite3\n",
    "import pandas\n"
   ]
  },
  {
   "cell_type": "code",
   "execution_count": 62,
   "metadata": {},
   "outputs": [
    {
     "data": {
      "text/html": [
       "<div>\n",
       "<style scoped>\n",
       "    .dataframe tbody tr th:only-of-type {\n",
       "        vertical-align: middle;\n",
       "    }\n",
       "\n",
       "    .dataframe tbody tr th {\n",
       "        vertical-align: top;\n",
       "    }\n",
       "\n",
       "    .dataframe thead th {\n",
       "        text-align: right;\n",
       "    }\n",
       "</style>\n",
       "<table border=\"1\" class=\"dataframe\">\n",
       "  <thead>\n",
       "    <tr style=\"text-align: right;\">\n",
       "      <th></th>\n",
       "      <th>teamID</th>\n",
       "      <th>yearID</th>\n",
       "      <th>W</th>\n",
       "      <th>G</th>\n",
       "      <th>WinPercentage</th>\n",
       "      <th>total_payroll</th>\n",
       "    </tr>\n",
       "  </thead>\n",
       "  <tbody>\n",
       "    <tr>\n",
       "      <th>0</th>\n",
       "      <td>ATL</td>\n",
       "      <td>1985</td>\n",
       "      <td>66</td>\n",
       "      <td>162</td>\n",
       "      <td>40.740741</td>\n",
       "      <td>261964696.0</td>\n",
       "    </tr>\n",
       "    <tr>\n",
       "      <th>1</th>\n",
       "      <td>ATL</td>\n",
       "      <td>1986</td>\n",
       "      <td>72</td>\n",
       "      <td>161</td>\n",
       "      <td>44.720497</td>\n",
       "      <td>307854518.0</td>\n",
       "    </tr>\n",
       "    <tr>\n",
       "      <th>2</th>\n",
       "      <td>ATL</td>\n",
       "      <td>1987</td>\n",
       "      <td>69</td>\n",
       "      <td>161</td>\n",
       "      <td>42.857143</td>\n",
       "      <td>272575375.0</td>\n",
       "    </tr>\n",
       "    <tr>\n",
       "      <th>3</th>\n",
       "      <td>ATL</td>\n",
       "      <td>1988</td>\n",
       "      <td>54</td>\n",
       "      <td>160</td>\n",
       "      <td>33.750000</td>\n",
       "      <td>300452424.0</td>\n",
       "    </tr>\n",
       "    <tr>\n",
       "      <th>4</th>\n",
       "      <td>ATL</td>\n",
       "      <td>1989</td>\n",
       "      <td>63</td>\n",
       "      <td>161</td>\n",
       "      <td>39.130435</td>\n",
       "      <td>359995711.0</td>\n",
       "    </tr>\n",
       "  </tbody>\n",
       "</table>\n",
       "</div>"
      ],
      "text/plain": [
       "  teamID  yearID   W    G  WinPercentage  total_payroll\n",
       "0    ATL    1985  66  162      40.740741    261964696.0\n",
       "1    ATL    1986  72  161      44.720497    307854518.0\n",
       "2    ATL    1987  69  161      42.857143    272575375.0\n",
       "3    ATL    1988  54  160      33.750000    300452424.0\n",
       "4    ATL    1989  63  161      39.130435    359995711.0"
      ]
     },
     "execution_count": 62,
     "metadata": {},
     "output_type": "execute_result"
    }
   ],
   "source": [
    "\n",
    "sql2016_file = './baseball-archive-sqlite-master/lahman2016.sqlite'\n",
    "conn = sqlite3.connect(sql2016_file)\n",
    "\n",
    "# salary_query = \"\"\"SELECT teamID, yearID, W, G, CAST(W AS float)/CAST(G AS float)*100\n",
    "# AS 'WinPercentage'\n",
    "# FROM Teams\n",
    "# INNER JOIN Salaries\n",
    "# ON Teams.teamID = Salaries.teamID AND Teams.yearID = Salaries.yearID\"\"\"\n",
    "\n",
    "# add columns to this query as needed for the subsequent EDA\n",
    "my_query = \"\"\"\n",
    "SELECT * FROM\n",
    "\n",
    "(SELECT teamID, yearID, W, G, CAST(W AS float)/CAST(G AS float)*100 \n",
    "AS 'WinPercentage'\n",
    "FROM Teams) a\n",
    "INNER JOIN\n",
    "(SELECT sum(salary) AS total_payroll, yearID AS d_yearID, teamID AS d_teamID\n",
    "FROM Salaries GROUP BY yearID) b\n",
    "\n",
    "ON a.teamID = b.d_teamID AND a.yearID = b.d_yearID\n",
    "\"\"\"\n",
    "\n",
    "payroll_winpercent = pandas.read_sql(my_query, conn)\n",
    "desired_columns = [\"teamID\",\"yearID\", \"W\", \"G\", \"WinPercentage\", \"total_payroll\"]\n",
    "\n",
    "pw_df = payroll_winpercent[desired_columns]\n",
    "pw_df.head()\n",
    "#payroll_winpercent[\"WinPercentage\"].corr(payroll_winpercent['total_payroll'])"
   ]
  },
  {
   "cell_type": "markdown",
   "metadata": {},
   "source": [
    "## Part 2: Exploratory Data Analysis\n",
    "## Payroll Distribution\n",
    "### Problem 2\n",
    "Write code to produce a plot that illustrate the distribution of payrolls across teams conditioned on time (from 1990-2014). This plot should be clear and interpretable.\n",
    "\n",
    "Write code to produce a scatter plot that shows winning percentage as a function of total payroll. That is, the total payroll on the x-axis and win percentage is on the y axis."
   ]
  },
  {
   "cell_type": "code",
   "execution_count": 13,
   "metadata": {},
   "outputs": [],
   "source": [
    "%matplotlib inline\n",
    "import matplotlib.pyplot as plt"
   ]
  },
  {
   "cell_type": "code",
   "execution_count": 84,
   "metadata": {},
   "outputs": [
    {
     "data": {
      "text/plain": [
       "<matplotlib.axes._subplots.AxesSubplot at 0x1c0c8e29d68>"
      ]
     },
     "execution_count": 84,
     "metadata": {},
     "output_type": "execute_result"
    },
    {
     "data": {
      "image/png": "[encoded data removed]",
      "text/plain": [
       "<Figure size 432x288 with 1 Axes>"
      ]
     },
     "metadata": {
      "needs_background": "light"
     },
     "output_type": "display_data"
    },
    {
     "data": {
      "image/png": "[encoded data removed]",
      "text/plain": [
       "<Figure size 432x288 with 1 Axes>"
      ]
     },
     "metadata": {
      "needs_background": "light"
     },
     "output_type": "display_data"
    }
   ],
   "source": [
    "#fig, axes = plt.subplots(1, 24, figsize=(5, 5), sharey=True)\n",
    "\n",
    "'''years = payroll_winpercent[\"yearID\"].unique()\n",
    "for ax, team in zip(axes, teams):\n",
    "    #housing_type = housing_df[housing_df[\"Bldg Type\"] == bldg_type]\n",
    "    df_to_vis = payroll_winpercent[payroll_winpercent[\"teamID\"] == team]\n",
    "    df_to_vis.plot.scatter(x=\"yearID\", y=\"total_payroll\", ax=ax)\n",
    "    ax.set_title(team)'''\n",
    "teams = pw_df[\"teamID\"].unique()\n",
    "#for team in teams:\n",
    "\n",
    "my_ax = plt.axes()\n",
    "my_ax.set_xlim(left = 1990, right = 2014)\n",
    "pw_df[pw_df[\"teamID\"] == \"ATL\"].plot.scatter(x = \"yearID\", y = \"total_payroll\", xlim=(1990,2014))"
   ]
  },
  {
   "cell_type": "code",
   "execution_count": null,
   "metadata": {},
   "outputs": [],
   "source": []
  }
 ],
 "metadata": {
  "kernelspec": {
   "display_name": "Python 3",
   "language": "python",
   "name": "python3"
  },
  "language_info": {
   "codemirror_mode": {
    "name": "ipython",
    "version": 3
   },
   "file_extension": ".py",
   "mimetype": "text/x-python",
   "name": "python",
   "nbconvert_exporter": "python",
   "pygments_lexer": "ipython3",
   "version": "3.7.3"
  }
 },
 "nbformat": 4,
 "nbformat_minor": 2
}
