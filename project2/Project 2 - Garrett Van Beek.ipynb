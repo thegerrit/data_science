{
 "cells": [
  {
   "cell_type": "markdown",
   "metadata": {},
   "source": [
    "# Project 2 - Moneyball"
   ]
  },
  {
   "cell_type": "markdown",
   "metadata": {},
   "source": [
    "## The Question\n",
    "\n",
    "We want to understand how efficient teams have been historically at spending money and getting wins in return. In the case of Moneyball, one would expect that Oakland was not much more efficient than other teams in their spending before 2000, were much more efficient (they made a movie about it after all) between 2000 and 2005, and by then other teams may have caught up. Your job in this project is to see how this is reflected in the data we have."
   ]
  },
  {
   "cell_type": "markdown",
   "metadata": {},
   "source": [
    "## Part 1: Wrangling\n",
    "\n",
    "The data you need to answer these questions is in the Salaries and Teams tables of the database.\n",
    "\n",
    "#### Problem 1\n",
    "\n",
    "**Using an SQL query only** compute a relation containing the total payroll and winning percentage (number of wins / number of games * 100) for each team (that is, for each teamID and yearID combination). You should include other columns that will help when performing EDA later on (e.g., franchise ids, number of wins, number of games).\n",
    "\n",
    "**Hint:** Take a good look at the [SQLite Documentation](https://www.sqlitetutorial.net/).\n",
    "\n",
    "Include as a cell the SQL code you used to create this relation. As a markdown cell, describe how you dealt with any missing data in these two relations. Specifically, indicate if there is missing data in either table, and how the type of join you used determines how you dealt with this missing data. \n",
    "\n",
    "**You must display the head of the resulting data table in your notebook.  You should also display the results of one team over the time range to make sure your data is correct.**\n",
    "\n",
    "**Hint:** For SQL you have to be mindful of integer vs. float division.  See the above tutorial on how to deal with this."
   ]
  },
  {
   "cell_type": "code",
   "execution_count": 63,
   "metadata": {},
   "outputs": [],
   "source": [
    "import sqlite3\n",
    "import pandas\n"
   ]
  },
  {
   "cell_type": "code",
   "execution_count": 77,
   "metadata": {},
   "outputs": [
    {
     "data": {
      "text/plain": [
       "0.03748706907735965"
      ]
     },
     "execution_count": 77,
     "metadata": {},
     "output_type": "execute_result"
    }
   ],
   "source": [
    "\n",
    "sql2014_file = './baseball-archive-sqlite-master/lahman2014.sqlite'\n",
    "conn = sqlite3.connect(sql2014_file)\n",
    "\n",
    "# salary_query = \"\"\"SELECT teamID, yearID, W, G, CAST(W AS float)/CAST(G AS float)*100\n",
    "# AS 'WinPercentage'\n",
    "# FROM Teams\n",
    "# INNER JOIN Salaries\n",
    "# ON Teams.teamID = Salaries.teamID AND Teams.yearID = Salaries.yearID\"\"\"\n",
    "\n",
    "# add columns to this query as needed for the subsequent EDA\n",
    "salary_query = \"\"\"\n",
    "SELECT * FROM\n",
    "\n",
    "(SELECT teamID, yearID, W, G, CAST(W AS float)/CAST(G AS float)*100 \n",
    "AS 'WinPercentage'\n",
    "FROM Teams) a\n",
    "INNER JOIN\n",
    "(SELECT sum(salary) AS total_payroll, yearID, teamID\n",
    "FROM Salaries GROUP BY yearID) b\n",
    "\n",
    "ON a.teamID = b.teamID AND a.yearID = b.yearID\n",
    "\"\"\"\n",
    "\n",
    "team_salaries = pandas.read_sql(salary_query, conn)\n",
    "#team_salaries[\"WinPercentage\"].corr(team_salaries['total_payroll'])"
   ]
  },
  {
   "cell_type": "code",
   "execution_count": null,
   "metadata": {},
   "outputs": [],
   "source": []
  }
 ],
 "metadata": {
  "kernelspec": {
   "display_name": "Python 3",
   "language": "python",
   "name": "python3"
  },
  "language_info": {
   "codemirror_mode": {
    "name": "ipython",
    "version": 3
   },
   "file_extension": ".py",
   "mimetype": "text/x-python",
   "name": "python",
   "nbconvert_exporter": "python",
   "pygments_lexer": "ipython3",
   "version": "3.7.3"
  }
 },
 "nbformat": 4,
 "nbformat_minor": 2
}
